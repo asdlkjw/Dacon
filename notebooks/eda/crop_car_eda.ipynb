{
 "cells": [
  {
   "cell_type": "code",
   "execution_count": 2,
   "metadata": {},
   "outputs": [],
   "source": [
    "from glob import glob\n",
    "import cv2"
   ]
  },
  {
   "cell_type": "code",
   "execution_count": 18,
   "metadata": {},
   "outputs": [
    {
     "name": "stdout",
     "output_type": "stream",
     "text": [
      "0: 500\n",
      "1: 500\n",
      "2: 500\n",
      "3: 500\n",
      "4: 500\n",
      "5: 500\n",
      "6: 500\n",
      "7: 500\n",
      "8: 500\n",
      "9: 500\n",
      "10: 500\n",
      "11: 500\n",
      "12: 500\n",
      "13: 500\n",
      "14: 500\n",
      "15: 500\n",
      "16: 500\n",
      "17: 500\n",
      "18: 500\n",
      "19: 500\n",
      "20: 500\n",
      "21: 500\n",
      "22: 500\n",
      "23: 500\n",
      "24: 500\n",
      "25: 500\n",
      "26: 500\n",
      "27: 500\n",
      "28: 500\n",
      "29: 500\n",
      "30: 500\n",
      "31: 500\n",
      "32: 500\n",
      "33: 500\n"
     ]
    }
   ],
   "source": [
    "data_path = \"/data/dacon_cars/data/cars\"\n",
    "\n",
    "size_list = []\n",
    "for i in range(34):\n",
    "    crop_cars = sorted(glob(f\"{data_path}/{i}/*.png\"))\n",
    "    for crop_car in crop_cars:\n",
    "        size = cv2.imread(crop_car).shape[:2]\n",
    "        size_list.append([i, size[0], size[1]])\n",
    "    print(f\"{i}: {len(crop_cars)}\")"
   ]
  }
 ],
 "metadata": {
  "kernelspec": {
   "display_name": "Python 3",
   "language": "python",
   "name": "python3"
  },
  "language_info": {
   "codemirror_mode": {
    "name": "ipython",
    "version": 3
   },
   "file_extension": ".py",
   "mimetype": "text/x-python",
   "name": "python",
   "nbconvert_exporter": "python",
   "pygments_lexer": "ipython3",
   "version": "3.8.10"
  },
  "orig_nbformat": 4
 },
 "nbformat": 4,
 "nbformat_minor": 2
}
