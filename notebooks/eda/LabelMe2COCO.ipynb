{
 "cells": [
  {
   "attachments": {},
   "cell_type": "markdown",
   "metadata": {},
   "source": [
    "### Import"
   ]
  },
  {
   "cell_type": "code",
   "execution_count": 19,
   "metadata": {},
   "outputs": [],
   "source": [
    "import json\n",
    "import cv2\n",
    "from glob import glob\n",
    "from sklearn.model_selection import train_test_split\n",
    "import os"
   ]
  },
  {
   "attachments": {},
   "cell_type": "markdown",
   "metadata": {},
   "source": [
    "### Ann list"
   ]
  },
  {
   "cell_type": "code",
   "execution_count": 20,
   "metadata": {},
   "outputs": [],
   "source": [
    "ann_path = \"/data/dacon_cars/data/train/*.txt\"\n",
    "ann_files = sorted(glob(ann_path))"
   ]
  },
  {
   "attachments": {},
   "cell_type": "markdown",
   "metadata": {},
   "source": [
    "### Split"
   ]
  },
  {
   "cell_type": "code",
   "execution_count": 21,
   "metadata": {},
   "outputs": [],
   "source": [
    "# valid set을 나눌 경우\n",
    "# ann_train, ann_valid = train_test_split(ann_files,\n",
    "#                                        test_size=0.1,\n",
    "#                                        random_state=1119)"
   ]
  },
  {
   "attachments": {},
   "cell_type": "markdown",
   "metadata": {},
   "source": [
    "### Define converter"
   ]
  },
  {
   "cell_type": "code",
   "execution_count": 22,
   "metadata": {},
   "outputs": [],
   "source": [
    "def labelmetxt2coco(anns):\n",
    "    cars = {}\n",
    "    # 숫자로 해도 되지만, 클래스 확인하기 위해 차종으로 변경\n",
    "    classes = [\n",
    "        \"chevrolet_malibu_sedan_2012_2016\",\n",
    "        \"chevrolet_malibu_sedan_2017_2019\",\n",
    "        \"chevrolet_spark_hatchback_2016_2021\",\n",
    "        \"chevrolet_trailblazer_suv_2021_\",\n",
    "        \"chevrolet_trax_suv_2017_2019\",\n",
    "        \"genesis_g80_sedan_2016_2020\",\n",
    "        \"genesis_g80_sedan_2021_\",\n",
    "        \"genesis_gv80_suv_2020_\",\n",
    "        \"hyundai_avante_sedan_2011_2015\",\n",
    "        \"hyundai_avante_sedan_2020_\",\n",
    "        \"hyundai_grandeur_sedan_2011_2016\",\n",
    "        \"hyundai_grandstarex_van_2018_2020\",\n",
    "        \"hyundai_ioniq_hatchback_2016_2019\",\n",
    "        \"hyundai_sonata_sedan_2004_2009\",\n",
    "        \"hyundai_sonata_sedan_2010_2014\",\n",
    "        \"hyundai_sonata_sedan_2019_2020\",\n",
    "        \"kia_carnival_van_2015_2020\",\n",
    "        \"kia_carnival_van_2021_\",\n",
    "        \"kia_k5_sedan_2010_2015\",\n",
    "        \"kia_k5_sedan_2020_\",\n",
    "        \"kia_k7_sedan_2016_2020\",\n",
    "        \"kia_mohave_suv_2020_\",\n",
    "        \"kia_morning_hatchback_2004_2010\",\n",
    "        \"kia_morning_hatchback_2011_2016\",\n",
    "        \"kia_ray_hatchback_2012_2017\",\n",
    "        \"kia_sorrento_suv_2015_2019\",\n",
    "        \"kia_sorrento_suv_2020_\",\n",
    "        \"kia_soul_suv_2014_2018\",\n",
    "        \"kia_sportage_suv_2016_2020\",\n",
    "        \"kia_stonic_suv_2017_2019\",\n",
    "        \"renault_sm3_sedan_2015_2018\",\n",
    "        \"renault_xm3_suv_2020_\",\n",
    "        \"ssangyong_korando_suv_2019_2020\",\n",
    "        \"ssangyong_tivoli_suv_2016_2020\",\n",
    "    ]\n",
    "    cars[\"categories\"] = [\n",
    "        {\"id\": i + 1, \"name\": cat, \"supercategory\": \"none\"}\n",
    "        for i, cat in enumerate(classes)\n",
    "    ]\n",
    "    cars[\"images\"] = []\n",
    "    cars[\"annotations\"] = []\n",
    "    cnt_ann = 0\n",
    "    for i, ann in enumerate(anns):\n",
    "        img_path = ann.replace(\"txt\", \"png\")\n",
    "        # h, w, _ = cv2.imread(img_path).shape\n",
    "        cars[\"images\"].append(\n",
    "            {\n",
    "                \"id\": i,\n",
    "                \"height\": 1040,\n",
    "                \"width\": 1920,\n",
    "                \"file_name\": os.path.basename(img_path),\n",
    "            }\n",
    "        )\n",
    "\n",
    "        f_ann = open(ann, \"r\")\n",
    "        for line in f_ann.readlines():\n",
    "            data = line.split()\n",
    "            cat = int(float(data[0]))\n",
    "            pt1x = int(data[1])\n",
    "            pt1y = int(data[2])\n",
    "            # pt2x = int(data[3])    not to use\n",
    "            # pt2y = int(data[4])\n",
    "            pt3x = int(data[5])\n",
    "            pt3y = int(data[6])\n",
    "            # pt4x = int(data[7])\n",
    "            # pt4y = int(data[8])\n",
    "            x = pt1x\n",
    "            y = pt1y\n",
    "            width = pt3x - pt1x\n",
    "            height = pt3y - pt1y\n",
    "            area = width * height\n",
    "            cars[\"annotations\"].append(\n",
    "                {\n",
    "                    \"id\": cnt_ann,\n",
    "                    \"image_id\": i,\n",
    "                    \"category_id\": cat + 1,\n",
    "                    \"bbox\": [x, y, width, height],\n",
    "                    \"area\": area,\n",
    "                    \"segmentation\": [],\n",
    "                    \"iscrowd\": 0,\n",
    "                }\n",
    "            )\n",
    "            cnt_ann += 1\n",
    "\n",
    "    return cars"
   ]
  },
  {
   "attachments": {},
   "cell_type": "markdown",
   "metadata": {},
   "source": [
    "### Make COCO annotation json file"
   ]
  },
  {
   "cell_type": "code",
   "execution_count": 23,
   "metadata": {},
   "outputs": [],
   "source": [
    "with open(\"/data/dacon_cars/data/annotations/train.json\", \"w\") as f:\n",
    "    json.dump(labelmetxt2coco(ann_files), f, ensure_ascii=False, indent=4)\n",
    "\n",
    "# train/valid split을 했을 경우\n",
    "# with open('/content/drive/MyDrive/DACON/236107/data/annotations/train_json', \"w\") as f:\n",
    "#     json.dump(labelmetxt2coco(ann_train), f, ensure_ascii=False, indent=4)\n",
    "\n",
    "# with open('/content/drive/MyDrive/DACON/236107/data/annotations/val_json', \"w\") as f:\n",
    "#     json.dump(labelmetxt2coco(ann_valid), f, ensure_ascii=False, indent=4)"
   ]
  },
  {
   "cell_type": "code",
   "execution_count": null,
   "metadata": {},
   "outputs": [],
   "source": []
  }
 ],
 "metadata": {
  "kernelspec": {
   "display_name": "base",
   "language": "python",
   "name": "python3"
  },
  "language_info": {
   "codemirror_mode": {
    "name": "ipython",
    "version": 3
   },
   "file_extension": ".py",
   "mimetype": "text/x-python",
   "name": "python",
   "nbconvert_exporter": "python",
   "pygments_lexer": "ipython3",
   "version": "3.8.10"
  },
  "orig_nbformat": 4
 },
 "nbformat": 4,
 "nbformat_minor": 2
}
