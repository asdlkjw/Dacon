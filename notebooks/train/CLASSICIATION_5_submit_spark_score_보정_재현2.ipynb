{
 "cells": [
  {
   "attachments": {},
   "cell_type": "markdown",
   "id": "f67c8620",
   "metadata": {},
   "source": [
    "최고 점수 튜닝\n",
    "\n",
    "빠른 학습을 위한 image -> npy 형태로 학습"
   ]
  },
  {
   "attachments": {},
   "cell_type": "markdown",
   "id": "a2bcba5f-002e-4f49-9622-ada6117faf0a",
   "metadata": {},
   "source": [
    "## Import"
   ]
  },
  {
   "cell_type": "code",
   "execution_count": 1,
   "id": "2b0d9b68-7102-4eca-9543-3b9b8acafc6e",
   "metadata": {},
   "outputs": [],
   "source": [
    "import random\n",
    "import pandas as pd\n",
    "import numpy as np\n",
    "import os\n",
    "import cv2\n",
    "from matplotlib import pyplot as plt\n",
    "from glob import glob\n",
    "import torch\n",
    "from torch.utils.data import Dataset, DataLoader\n",
    "\n",
    "import albumentations as A\n",
    "from albumentations.pytorch.transforms import ToTensorV2\n",
    "import torchvision.models as models\n",
    "\n",
    "from tqdm import tqdm\n",
    "import timm\n",
    "from torchsummaryX import summary\n",
    "from sklearn.model_selection import train_test_split, StratifiedKFold\n",
    "\n",
    "from torch.utils.data import Dataset\n",
    "from torch import nn"
   ]
  },
  {
   "attachments": {},
   "cell_type": "markdown",
   "id": "09010f30",
   "metadata": {},
   "source": [
    "## Config"
   ]
  },
  {
   "cell_type": "code",
   "execution_count": 2,
   "id": "8356dbce",
   "metadata": {},
   "outputs": [
    {
     "data": {
      "text/plain": [
       "<src.global_exception_handler.v1.GlobalExceptionHandler at 0x7f60ea377040>"
      ]
     },
     "execution_count": 2,
     "metadata": {},
     "output_type": "execute_result"
    }
   ],
   "source": [
    "from dotenv import load_dotenv\n",
    "from setup import get_package_root_path\n",
    "from src.global_exception_handler.v1 import GlobalExceptionHandler\n",
    "from src.webhook.v1 import TeamsWebhook\n",
    "\n",
    "load_dotenv()\n",
    "\n",
    "pakage_name = os.environ.get(\"PACKAGE_NAME\")\n",
    "root_path = get_package_root_path()\n",
    "\n",
    "# 웹훅 알림 url (없으면 빈 문자열)\n",
    "webhook_url = os.environ.get(\"WEBHOOK_URL\")\n",
    "webhook = TeamsWebhook(webhook_url)\n",
    "\n",
    "# 핸들링할 예외 종류\n",
    "except_tuple = (Exception,)\n",
    "GlobalExceptionHandler(except_tuple=except_tuple, sender=webhook, name=\"dacon_cars\")"
   ]
  },
  {
   "cell_type": "code",
   "execution_count": 3,
   "id": "f09bb8e6",
   "metadata": {},
   "outputs": [
    {
     "name": "stdout",
     "output_type": "stream",
     "text": [
      "Sun Jun 18 13:45:00 2023       \n",
      "+-----------------------------------------------------------------------------+\n",
      "| NVIDIA-SMI 515.65.01    Driver Version: 515.65.01    CUDA Version: 11.7     |\n",
      "|-------------------------------+----------------------+----------------------+\n",
      "| GPU  Name        Persistence-M| Bus-Id        Disp.A | Volatile Uncorr. ECC |\n",
      "| Fan  Temp  Perf  Pwr:Usage/Cap|         Memory-Usage | GPU-Util  Compute M. |\n",
      "|                               |                      |               MIG M. |\n",
      "|===============================+======================+======================|\n",
      "|   0  NVIDIA RTX A6000    On   | 00000000:81:00.0 Off |                  Off |\n",
      "| 30%   36C    P3    78W / 300W |      1MiB / 49140MiB |      0%      Default |\n",
      "|                               |                      |                  N/A |\n",
      "+-------------------------------+----------------------+----------------------+\n",
      "                                                                               \n",
      "+-----------------------------------------------------------------------------+\n",
      "| Processes:                                                                  |\n",
      "|  GPU   GI   CI        PID   Type   Process name                  GPU Memory |\n",
      "|        ID   ID                                                   Usage      |\n",
      "|=============================================================================|\n",
      "|  No running processes found                                                 |\n",
      "+-----------------------------------------------------------------------------+\n"
     ]
    }
   ],
   "source": [
    "!nvidia-smi"
   ]
  },
  {
   "attachments": {},
   "cell_type": "markdown",
   "id": "fc7df3f2-62d0-4499-a46e-47d01699def0",
   "metadata": {},
   "source": [
    "## Hyperparameter Setting"
   ]
  },
  {
   "cell_type": "code",
   "execution_count": 5,
   "id": "c3367399-9798-4e38-967b-fd2320b9a2b2",
   "metadata": {},
   "outputs": [
    {
     "data": {
      "text/plain": [
       "mappingproxy({'__module__': '__main__',\n",
       "              'root_path': '/data/dacon_cars',\n",
       "              'job_id': 'CLASSICIATION_5_submit_special_spark',\n",
       "              'data_path': '/data/dacon_cars/data/cars',\n",
       "              'outputs_path': '/data/dacon_cars/outputs/CLASSICIATION_5_submit_special_spark',\n",
       "              'predict_dir': '/data/dacon_cars/outputs/CLASSICIATION_5_submit_special_spark/predict',\n",
       "              'recorder_dir': '/data/dacon_cars/outputs/CLASSICIATION_5_submit_special_spark/recorder',\n",
       "              'learning_late': 0.0001,\n",
       "              'batch_size': 32,\n",
       "              'epoch': 60,\n",
       "              'num_classes': 34,\n",
       "              'classes': ['chevrolet_malibu_sedan_2012_2016',\n",
       "               'chevrolet_malibu_sedan_2017_2019',\n",
       "               'chevrolet_spark_hatchback_2016_2021',\n",
       "               'chevrolet_trailblazer_suv_2021_',\n",
       "               'chevrolet_trax_suv_2017_2019',\n",
       "               'genesis_g80_sedan_2016_2020',\n",
       "               'genesis_g80_sedan_2021_',\n",
       "               'genesis_gv80_suv_2020_',\n",
       "               'hyundai_avante_sedan_2011_2015',\n",
       "               'hyundai_avante_sedan_2020_',\n",
       "               'hyundai_grandeur_sedan_2011_2016',\n",
       "               'hyundai_grandstarex_van_2018_2020',\n",
       "               'hyundai_ioniq_hatchback_2016_2019',\n",
       "               'hyundai_sonata_sedan_2004_2009',\n",
       "               'hyundai_sonata_sedan_2010_2014',\n",
       "               'hyundai_sonata_sedan_2019_2020',\n",
       "               'kia_carnival_van_2015_2020',\n",
       "               'kia_carnival_van_2021_',\n",
       "               'kia_k5_sedan_2010_2015',\n",
       "               'kia_k5_sedan_2020_',\n",
       "               'kia_k7_sedan_2016_2020',\n",
       "               'kia_mohave_suv_2020_',\n",
       "               'kia_morning_hatchback_2004_2010',\n",
       "               'kia_morning_hatchback_2011_2016',\n",
       "               'kia_ray_hatchback_2012_2017',\n",
       "               'kia_sorrento_suv_2015_2019',\n",
       "               'kia_sorrento_suv_2020_',\n",
       "               'kia_soul_suv_2014_2018',\n",
       "               'kia_sportage_suv_2016_2020',\n",
       "               'kia_stonic_suv_2017_2019',\n",
       "               'renault_sm3_sedan_2015_2018',\n",
       "               'renault_xm3_suv_2020_',\n",
       "               'ssangyong_korando_suv_2019_2020',\n",
       "               'ssangyong_tivoli_suv_2016_2020'],\n",
       "              '__dict__': <attribute '__dict__' of 'CFG' objects>,\n",
       "              '__weakref__': <attribute '__weakref__' of 'CFG' objects>,\n",
       "              '__doc__': None})"
      ]
     },
     "execution_count": 5,
     "metadata": {},
     "output_type": "execute_result"
    }
   ],
   "source": [
    "class CFG:\n",
    "    root_path = root_path\n",
    "    # Job Id (보통 파일명과 동일하게)\n",
    "    job_id = \"CLASSICIATION_5_submit_special_spark\"\n",
    "\n",
    "    # 원천 데이터 경로\n",
    "    data_path = f\"{root_path}/data/cars\"\n",
    "\n",
    "    # 학습의 결과물이 저장될 경로\n",
    "    outputs_path = f\"{root_path}/outputs/{job_id}\"\n",
    "    predict_dir = f\"{outputs_path}/predict\"\n",
    "    recorder_dir = f\"{outputs_path}/recorder\"\n",
    "\n",
    "    learning_late = 0.0001\n",
    "    batch_size = 32\n",
    "    epoch = 60\n",
    "    num_classes = 34\n",
    "\n",
    "    classes = [\n",
    "        \"chevrolet_malibu_sedan_2012_2016\",\n",
    "        \"chevrolet_malibu_sedan_2017_2019\",\n",
    "        \"chevrolet_spark_hatchback_2016_2021\",\n",
    "        \"chevrolet_trailblazer_suv_2021_\",\n",
    "        \"chevrolet_trax_suv_2017_2019\",\n",
    "        \"genesis_g80_sedan_2016_2020\",\n",
    "        \"genesis_g80_sedan_2021_\",\n",
    "        \"genesis_gv80_suv_2020_\",\n",
    "        \"hyundai_avante_sedan_2011_2015\",\n",
    "        \"hyundai_avante_sedan_2020_\",\n",
    "        \"hyundai_grandeur_sedan_2011_2016\",\n",
    "        \"hyundai_grandstarex_van_2018_2020\",\n",
    "        \"hyundai_ioniq_hatchback_2016_2019\",\n",
    "        \"hyundai_sonata_sedan_2004_2009\",\n",
    "        \"hyundai_sonata_sedan_2010_2014\",\n",
    "        \"hyundai_sonata_sedan_2019_2020\",\n",
    "        \"kia_carnival_van_2015_2020\",\n",
    "        \"kia_carnival_van_2021_\",\n",
    "        \"kia_k5_sedan_2010_2015\",\n",
    "        \"kia_k5_sedan_2020_\",\n",
    "        \"kia_k7_sedan_2016_2020\",\n",
    "        \"kia_mohave_suv_2020_\",\n",
    "        \"kia_morning_hatchback_2004_2010\",\n",
    "        \"kia_morning_hatchback_2011_2016\",\n",
    "        \"kia_ray_hatchback_2012_2017\",\n",
    "        \"kia_sorrento_suv_2015_2019\",\n",
    "        \"kia_sorrento_suv_2020_\",\n",
    "        \"kia_soul_suv_2014_2018\",\n",
    "        \"kia_sportage_suv_2016_2020\",\n",
    "        \"kia_stonic_suv_2017_2019\",\n",
    "        \"renault_sm3_sedan_2015_2018\",\n",
    "        \"renault_xm3_suv_2020_\",\n",
    "        \"ssangyong_korando_suv_2019_2020\",\n",
    "        \"ssangyong_tivoli_suv_2016_2020\",\n",
    "    ]\n",
    "\n",
    "\n",
    "CFG.__dict__"
   ]
  },
  {
   "attachments": {},
   "cell_type": "markdown",
   "id": "ac27ed36-8031-47a7-bd0d-a913513f2e8e",
   "metadata": {},
   "source": [
    "## CustomDataset"
   ]
  },
  {
   "cell_type": "code",
   "execution_count": 6,
   "id": "16fd60a5-24e2-4539-bfd0-1c374a641699",
   "metadata": {},
   "outputs": [],
   "source": [
    "from sklearn.utils.class_weight import compute_class_weight\n",
    "\n",
    "\n",
    "class CustomDataset(Dataset):\n",
    "    def __init__(self, X, y, transforms=None, num_classes: int = None):\n",
    "        self.X = X\n",
    "        self.y = y\n",
    "        self.transforms = transforms\n",
    "        self.num_classes = num_classes\n",
    "\n",
    "    def to_categorical(self, y, num_classes):\n",
    "        \"\"\"1-hot encodes a tensor\"\"\"\n",
    "        return np.eye(num_classes, dtype=\"uint8\")[y]\n",
    "\n",
    "    def get_class_weight(self):\n",
    "        return torch.Tensor(\n",
    "            compute_class_weight(\n",
    "                class_weight=\"balanced\", classes=np.unique(self.y), y=self.y\n",
    "            )\n",
    "        )\n",
    "\n",
    "    def __getitem__(self, index):\n",
    "        img_path = self.X[index]\n",
    "        image = cv2.cvtColor(np.load(img_path), cv2.COLOR_BGR2RGB)\n",
    "\n",
    "        if self.transforms is not None:\n",
    "            image = self.transforms(image=image)[\"image\"]\n",
    "\n",
    "        if self.y is None:  # if test\n",
    "            return image, img_path\n",
    "\n",
    "        # train or valid\n",
    "        label = self.y[index]\n",
    "        if self.num_classes is None:\n",
    "            return image, label, img_path\n",
    "        else:\n",
    "            return image, self.to_categorical(label, self.num_classes), img_path\n",
    "\n",
    "    def __len__(self):\n",
    "        return len(self.X)"
   ]
  },
  {
   "attachments": {},
   "cell_type": "markdown",
   "id": "42a7a17f",
   "metadata": {},
   "source": [
    "## Transforms"
   ]
  },
  {
   "cell_type": "code",
   "execution_count": 7,
   "id": "c01b4067-0669-44a9-bbbc-3065d8cb00c2",
   "metadata": {},
   "outputs": [],
   "source": [
    "train_transform = A.Compose(\n",
    "    [\n",
    "        A.PadIfNeeded(\n",
    "            456,\n",
    "            456,\n",
    "            border_mode=0,\n",
    "            value=(0, 0, 0),\n",
    "        ),\n",
    "        A.ShiftScaleRotate(\n",
    "            shift_limit=0,\n",
    "            rotate_limit=7,\n",
    "            border_mode=0,\n",
    "            value=(0, 0, 0),\n",
    "            p=0.5,\n",
    "        ),\n",
    "        A.ToGray(p=1),\n",
    "        A.HorizontalFlip(),\n",
    "        A.OneOf(\n",
    "            [\n",
    "                A.GaussianBlur(blur_limit=(3, 25), p=1),\n",
    "                A.GaussNoise(p=1),\n",
    "                A.Sharpen(p=1),\n",
    "                A.Equalize(p=1),\n",
    "            ],\n",
    "            p=0.9,\n",
    "        ),\n",
    "        A.HueSaturationValue(val_shift_limit=10, p=0.9),\n",
    "        A.RandomBrightnessContrast(brightness_limit=0.05, contrast_limit=0.05, p=1),\n",
    "        A.OneOf(\n",
    "            [\n",
    "                A.CoarseDropout(fill_value=255, max_height=25, max_width=25),\n",
    "                A.CoarseDropout(fill_value=128, max_height=25, max_width=25),\n",
    "                A.CoarseDropout(fill_value=0, max_height=25, max_width=25),\n",
    "            ],\n",
    "            p=1,\n",
    "        ),\n",
    "        A.Normalize(mean=(0.5, 0.5, 0.5), std=(0.5, 0.5, 0.5), max_pixel_value=255.0),\n",
    "        ToTensorV2(),\n",
    "    ]\n",
    ")\n",
    "\n",
    "\n",
    "val_transform = A.Compose(\n",
    "    [\n",
    "        A.PadIfNeeded(\n",
    "            456,\n",
    "            456,\n",
    "            border_mode=0,\n",
    "            value=(0, 0, 0),\n",
    "        ),\n",
    "        A.ToGray(p=1),\n",
    "        # A.GaussianBlur(blur_limit=(3, 21), p=1),\n",
    "        # A.HueSaturationValue(),\n",
    "        # A.RandomBrightnessContrast(brightness_limit=0.1, contrast_limit=0.1, p=1),\n",
    "        A.Normalize(mean=(0.5, 0.5, 0.5), std=(0.5, 0.5, 0.5), max_pixel_value=255.0),\n",
    "        ToTensorV2(),\n",
    "    ]\n",
    ")"
   ]
  },
  {
   "attachments": {},
   "cell_type": "markdown",
   "id": "ed83ca14",
   "metadata": {},
   "source": [
    "## Init dataset"
   ]
  },
  {
   "cell_type": "code",
   "execution_count": 8,
   "id": "b6a223cb",
   "metadata": {},
   "outputs": [],
   "source": [
    "data = None\n",
    "for i, cls in enumerate(range(CFG.num_classes)):\n",
    "    data_path_list = sorted(glob(f\"{CFG.data_path}/{cls}/*.npy\"))\n",
    "    data_path_list = np.expand_dims(np.array(data_path_list), 1)\n",
    "\n",
    "    labels = np.ones(data_path_list.shape, dtype=np.uint8) * i\n",
    "\n",
    "    temp = np.concatenate([data_path_list, labels], axis=1)\n",
    "\n",
    "    data = temp if data is None else np.concatenate([data, temp], axis=0)"
   ]
  },
  {
   "cell_type": "code",
   "execution_count": 9,
   "id": "3997adcd",
   "metadata": {},
   "outputs": [
    {
     "data": {
      "text/html": [
       "<div>\n",
       "<style scoped>\n",
       "    .dataframe tbody tr th:only-of-type {\n",
       "        vertical-align: middle;\n",
       "    }\n",
       "\n",
       "    .dataframe tbody tr th {\n",
       "        vertical-align: top;\n",
       "    }\n",
       "\n",
       "    .dataframe thead th {\n",
       "        text-align: right;\n",
       "    }\n",
       "</style>\n",
       "<table border=\"1\" class=\"dataframe\">\n",
       "  <thead>\n",
       "    <tr style=\"text-align: right;\">\n",
       "      <th></th>\n",
       "      <th>path</th>\n",
       "      <th>label</th>\n",
       "    </tr>\n",
       "  </thead>\n",
       "  <tbody>\n",
       "    <tr>\n",
       "      <th>0</th>\n",
       "      <td>/data/dacon_cars/data/cars/0/syn_00024_2.npy</td>\n",
       "      <td>0</td>\n",
       "    </tr>\n",
       "    <tr>\n",
       "      <th>1</th>\n",
       "      <td>/data/dacon_cars/data/cars/0/syn_00053_1.npy</td>\n",
       "      <td>0</td>\n",
       "    </tr>\n",
       "    <tr>\n",
       "      <th>2</th>\n",
       "      <td>/data/dacon_cars/data/cars/0/syn_00060_1.npy</td>\n",
       "      <td>0</td>\n",
       "    </tr>\n",
       "    <tr>\n",
       "      <th>3</th>\n",
       "      <td>/data/dacon_cars/data/cars/0/syn_00061_1.npy</td>\n",
       "      <td>0</td>\n",
       "    </tr>\n",
       "    <tr>\n",
       "      <th>4</th>\n",
       "      <td>/data/dacon_cars/data/cars/0/syn_00077_1.npy</td>\n",
       "      <td>0</td>\n",
       "    </tr>\n",
       "    <tr>\n",
       "      <th>...</th>\n",
       "      <td>...</td>\n",
       "      <td>...</td>\n",
       "    </tr>\n",
       "    <tr>\n",
       "      <th>16995</th>\n",
       "      <td>/data/dacon_cars/data/cars/33/syn_06341_0.npy</td>\n",
       "      <td>33</td>\n",
       "    </tr>\n",
       "    <tr>\n",
       "      <th>16996</th>\n",
       "      <td>/data/dacon_cars/data/cars/33/syn_06347_0.npy</td>\n",
       "      <td>33</td>\n",
       "    </tr>\n",
       "    <tr>\n",
       "      <th>16997</th>\n",
       "      <td>/data/dacon_cars/data/cars/33/syn_06434_2.npy</td>\n",
       "      <td>33</td>\n",
       "    </tr>\n",
       "    <tr>\n",
       "      <th>16998</th>\n",
       "      <td>/data/dacon_cars/data/cars/33/syn_06437_0.npy</td>\n",
       "      <td>33</td>\n",
       "    </tr>\n",
       "    <tr>\n",
       "      <th>16999</th>\n",
       "      <td>/data/dacon_cars/data/cars/33/syn_06471_0.npy</td>\n",
       "      <td>33</td>\n",
       "    </tr>\n",
       "  </tbody>\n",
       "</table>\n",
       "<p>17000 rows × 2 columns</p>\n",
       "</div>"
      ],
      "text/plain": [
       "                                                path  label\n",
       "0       /data/dacon_cars/data/cars/0/syn_00024_2.npy      0\n",
       "1       /data/dacon_cars/data/cars/0/syn_00053_1.npy      0\n",
       "2       /data/dacon_cars/data/cars/0/syn_00060_1.npy      0\n",
       "3       /data/dacon_cars/data/cars/0/syn_00061_1.npy      0\n",
       "4       /data/dacon_cars/data/cars/0/syn_00077_1.npy      0\n",
       "...                                              ...    ...\n",
       "16995  /data/dacon_cars/data/cars/33/syn_06341_0.npy     33\n",
       "16996  /data/dacon_cars/data/cars/33/syn_06347_0.npy     33\n",
       "16997  /data/dacon_cars/data/cars/33/syn_06434_2.npy     33\n",
       "16998  /data/dacon_cars/data/cars/33/syn_06437_0.npy     33\n",
       "16999  /data/dacon_cars/data/cars/33/syn_06471_0.npy     33\n",
       "\n",
       "[17000 rows x 2 columns]"
      ]
     },
     "execution_count": 9,
     "metadata": {},
     "output_type": "execute_result"
    }
   ],
   "source": [
    "df = pd.DataFrame(data)\n",
    "df.columns = [\"path\", \"label\"]\n",
    "df = df.astype({\"path\": \"string\", \"label\": \"int\"})\n",
    "df"
   ]
  },
  {
   "cell_type": "code",
   "execution_count": 10,
   "id": "7e1f8c9a",
   "metadata": {},
   "outputs": [
    {
     "name": "stdout",
     "output_type": "stream",
     "text": [
      "0 : 500\n",
      "1 : 500\n",
      "2 : 500\n",
      "3 : 500\n",
      "4 : 500\n",
      "5 : 500\n",
      "6 : 500\n",
      "7 : 500\n",
      "8 : 500\n",
      "9 : 500\n",
      "10 : 500\n",
      "11 : 500\n",
      "12 : 500\n",
      "13 : 500\n",
      "14 : 500\n",
      "15 : 500\n",
      "16 : 500\n",
      "17 : 500\n",
      "18 : 500\n",
      "19 : 500\n",
      "20 : 500\n",
      "21 : 500\n",
      "22 : 500\n",
      "23 : 500\n",
      "24 : 500\n",
      "25 : 500\n",
      "26 : 500\n",
      "27 : 500\n",
      "28 : 500\n",
      "29 : 500\n",
      "30 : 500\n",
      "31 : 500\n",
      "32 : 500\n",
      "33 : 500\n",
      "\n",
      "전체 : 17000\n"
     ]
    }
   ],
   "source": [
    "for i, cls in enumerate(range(CFG.num_classes)):\n",
    "    print(f'{cls} : {df[df[\"label\"] == i].shape[0]}')\n",
    "\n",
    "print(\"\")\n",
    "print(f\"전체 : {df.shape[0]}\")"
   ]
  },
  {
   "attachments": {},
   "cell_type": "markdown",
   "id": "ee6967ed",
   "metadata": {},
   "source": [
    "## Train / Validation Split"
   ]
  },
  {
   "cell_type": "code",
   "execution_count": 11,
   "id": "4674bf61",
   "metadata": {},
   "outputs": [
    {
     "name": "stdout",
     "output_type": "stream",
     "text": [
      "5\n"
     ]
    }
   ],
   "source": [
    "data_fold_splitter = StratifiedKFold(n_splits=5, shuffle=True, random_state=0)\n",
    "checker = data_fold_splitter.get_n_splits(X=df, y=df[\"label\"])\n",
    "print(checker)"
   ]
  },
  {
   "cell_type": "code",
   "execution_count": 12,
   "id": "c11df848",
   "metadata": {},
   "outputs": [],
   "source": [
    "import seaborn as sns\n",
    "from sklearn.metrics import confusion_matrix, f1_score\n",
    "\n",
    "\n",
    "def save_pred(saved_path, path, y_true, y_pred, y_prob=None):\n",
    "    os.makedirs(saved_path)\n",
    "\n",
    "    df_data = [path, y_true, y_pred]\n",
    "    df_columns = [\"path\", \"y_true\", \"y_pred\"]\n",
    "\n",
    "    if y_prob != None:\n",
    "        df_data.append(y_prob)\n",
    "        df_columns.append(\"y_prob\")\n",
    "\n",
    "    df = pd.DataFrame(np.array(df_data).T)\n",
    "    df.columns = df_columns\n",
    "\n",
    "    df.to_csv(f\"{saved_path}/pred.csv\", index=False)\n",
    "\n",
    "    ### 임시 confusion_matrix\n",
    "    cm = confusion_matrix(y_true, y_pred)\n",
    "    sns.set(rc={\"figure.figsize\": (21, 21)})\n",
    "    sns.heatmap(cm, annot=True, fmt=\"d\", cmap=\"Greens\")\n",
    "    _val_score = f1_score(y_true, y_pred, average=\"macro\")\n",
    "    plt.xlabel(f\"Pred / F1-score: {_val_score:.3f}\")\n",
    "    plt.ylabel(\"Real\")\n",
    "\n",
    "    classes_point = list(map(lambda x: x + 0.5, range(CFG.num_classes)))\n",
    "    classes = list(range(CFG.num_classes))\n",
    "    plt.xticks(classes_point, classes)\n",
    "    plt.yticks(classes_point, classes)\n",
    "    plt.savefig(f\"{saved_path}/c_matrix.jpg\")\n",
    "    plt.clf()"
   ]
  },
  {
   "attachments": {},
   "cell_type": "markdown",
   "id": "39962463-032f-490a-a76d-c03991795f38",
   "metadata": {},
   "source": [
    "## Valid"
   ]
  },
  {
   "cell_type": "code",
   "execution_count": 13,
   "id": "d1011ba0",
   "metadata": {},
   "outputs": [],
   "source": [
    "from src.image_eda.v1 import tensor2im\n",
    "from sklearn.metrics import (\n",
    "    accuracy_score,\n",
    "    f1_score,\n",
    "    cohen_kappa_score,\n",
    "    confusion_matrix,\n",
    ")\n",
    "\n",
    "\n",
    "def valid(model, criterion, data_loader, device):\n",
    "    model.eval()\n",
    "    val_loss = []\n",
    "\n",
    "    epoch_paths = []\n",
    "    y_true = []\n",
    "    y_pred = []\n",
    "    # y_probs = []\n",
    "    with torch.no_grad():\n",
    "        for batch_index, (images, labels, paths) in enumerate(tqdm(data_loader)):\n",
    "            if batch_index % 10 == 0:\n",
    "                temp_img = images[0].cpu().detach()\n",
    "                temp_img = tensor2im(temp_img)\n",
    "\n",
    "                cv2.imwrite(f\"{CFG.root_path}/temp/valid_img.jpg\", temp_img)\n",
    "\n",
    "            images = images.to(device, dtype=torch.float)\n",
    "            labels = labels.to(device, dtype=torch.float)\n",
    "\n",
    "            probs = model(images)\n",
    "            loss = criterion(probs, labels)\n",
    "\n",
    "            probs = probs.cpu().detach().numpy()\n",
    "            labels = labels.cpu().detach().numpy()\n",
    "\n",
    "            preds = np.argmax(probs, 1).astype(np.uint8)\n",
    "            labels = np.argmax(labels, 1).astype(np.uint8)\n",
    "\n",
    "            preds = preds.flatten()\n",
    "            labels = labels.flatten()\n",
    "\n",
    "            y_pred += preds.tolist()\n",
    "            y_true += labels.tolist()\n",
    "            # y_probs += probs.tolist()\n",
    "            epoch_paths += paths\n",
    "\n",
    "            val_loss.append(loss.item())\n",
    "\n",
    "    val_loss = np.mean(val_loss)\n",
    "    val_score = accuracy_score(y_true, y_pred)\n",
    "\n",
    "    return {\n",
    "        \"val_loss\": val_loss,\n",
    "        \"val_score\": val_score,\n",
    "        \"path\": epoch_paths,\n",
    "        \"y_true\": y_true,\n",
    "        \"y_pred\": y_pred,\n",
    "    }"
   ]
  },
  {
   "attachments": {},
   "cell_type": "markdown",
   "id": "122af0aa-a1fd-4595-9488-35761e3cb596",
   "metadata": {},
   "source": [
    "## Train"
   ]
  },
  {
   "cell_type": "code",
   "execution_count": 14,
   "id": "a17df6b3-16c9-44dd-b0fd-ffb501fee749",
   "metadata": {},
   "outputs": [],
   "source": [
    "def train(model, criterion, optimizer, data_loader, device, grad_scaler=None):\n",
    "    model.train()\n",
    "    train_loss = []\n",
    "\n",
    "    epoch_paths = []\n",
    "    y_true = []\n",
    "    y_pred = []\n",
    "    for batch_index, (images, labels, paths) in enumerate(tqdm(data_loader)):\n",
    "        if batch_index % 10 == 0:\n",
    "            temp_img = images[0].detach().cpu()\n",
    "            temp_img = tensor2im(temp_img)\n",
    "\n",
    "            cv2.imwrite(f\"{CFG.root_path}/temp/train_img.jpg\", temp_img)\n",
    "\n",
    "        images = images.to(device, dtype=torch.float)\n",
    "        labels = labels.to(device, dtype=torch.float)\n",
    "\n",
    "        optimizer.zero_grad()\n",
    "        if grad_scaler is None:\n",
    "            probs = model(images)\n",
    "            loss = criterion(probs, labels)\n",
    "            loss.backward()\n",
    "            optimizer.step()\n",
    "        else:\n",
    "            with torch.cuda.amp.autocast():\n",
    "                probs = model(images)\n",
    "                loss = criterion(probs, labels)\n",
    "\n",
    "            grad_scaler.scale(loss).backward()\n",
    "            grad_scaler.step(optimizer)\n",
    "            grad_scaler.update()\n",
    "\n",
    "        probs = probs.cpu().detach().numpy()\n",
    "        labels = labels.cpu().detach().numpy()\n",
    "\n",
    "        preds = np.argmax(probs, 1).astype(np.uint8)\n",
    "        labels = np.argmax(labels, 1).astype(np.uint8)\n",
    "\n",
    "        preds = preds.flatten()\n",
    "        labels = labels.flatten()\n",
    "\n",
    "        y_pred += preds.tolist()\n",
    "        y_true += labels.tolist()\n",
    "        epoch_paths += paths\n",
    "\n",
    "        train_loss.append(loss.item())\n",
    "\n",
    "    train_loss = np.mean(train_loss)\n",
    "    train_score = accuracy_score(y_true, y_pred)\n",
    "\n",
    "    return {\n",
    "        \"train_loss\": train_loss,\n",
    "        \"train_score\": train_score,\n",
    "    }"
   ]
  },
  {
   "attachments": {},
   "cell_type": "markdown",
   "id": "dcd63b0f",
   "metadata": {},
   "source": [
    "## Model Define"
   ]
  },
  {
   "cell_type": "code",
   "execution_count": 15,
   "id": "e0caf730",
   "metadata": {},
   "outputs": [
    {
     "data": {
      "text/plain": [
       "ConvNeXt(\n",
       "  (stem): Sequential(\n",
       "    (0): Conv2d(3, 192, kernel_size=(4, 4), stride=(4, 4))\n",
       "    (1): LayerNorm2d((192,), eps=1e-06, elementwise_affine=True)\n",
       "  )\n",
       "  (stages): Sequential(\n",
       "    (0): ConvNeXtStage(\n",
       "      (downsample): Identity()\n",
       "      (blocks): Sequential(\n",
       "        (0): ConvNeXtBlock(\n",
       "          (conv_dw): Conv2d(192, 192, kernel_size=(7, 7), stride=(1, 1), padding=(3, 3), groups=192)\n",
       "          (norm): LayerNorm((192,), eps=1e-06, elementwise_affine=True)\n",
       "          (mlp): Mlp(\n",
       "            (fc1): Linear(in_features=192, out_features=768, bias=True)\n",
       "            (act): GELU()\n",
       "            (drop1): Dropout(p=0.0, inplace=False)\n",
       "            (norm): Identity()\n",
       "            (fc2): Linear(in_features=768, out_features=192, bias=True)\n",
       "            (drop2): Dropout(p=0.0, inplace=False)\n",
       "          )\n",
       "          (shortcut): Identity()\n",
       "          (drop_path): Identity()\n",
       "        )\n",
       "        (1): ConvNeXtBlock(\n",
       "          (conv_dw): Conv2d(192, 192, kernel_size=(7, 7), stride=(1, 1), padding=(3, 3), groups=192)\n",
       "          (norm): LayerNorm((192,), eps=1e-06, elementwise_affine=True)\n",
       "          (mlp): Mlp(\n",
       "            (fc1): Linear(in_features=192, out_features=768, bias=True)\n",
       "            (act): GELU()\n",
       "            (drop1): Dropout(p=0.0, inplace=False)\n",
       "            (norm): Identity()\n",
       "            (fc2): Linear(in_features=768, out_features=192, bias=True)\n",
       "            (drop2): Dropout(p=0.0, inplace=False)\n",
       "          )\n",
       "          (shortcut): Identity()\n",
       "          (drop_path): Identity()\n",
       "        )\n",
       "        (2): ConvNeXtBlock(\n",
       "          (conv_dw): Conv2d(192, 192, kernel_size=(7, 7), stride=(1, 1), padding=(3, 3), groups=192)\n",
       "          (norm): LayerNorm((192,), eps=1e-06, elementwise_affine=True)\n",
       "          (mlp): Mlp(\n",
       "            (fc1): Linear(in_features=192, out_features=768, bias=True)\n",
       "            (act): GELU()\n",
       "            (drop1): Dropout(p=0.0, inplace=False)\n",
       "            (norm): Identity()\n",
       "            (fc2): Linear(in_features=768, out_features=192, bias=True)\n",
       "            (drop2): Dropout(p=0.0, inplace=False)\n",
       "          )\n",
       "          (shortcut): Identity()\n",
       "          (drop_path): Identity()\n",
       "        )\n",
       "      )\n",
       "    )\n",
       "    (1): ConvNeXtStage(\n",
       "      (downsample): Sequential(\n",
       "        (0): LayerNorm2d((192,), eps=1e-06, elementwise_affine=True)\n",
       "        (1): Conv2d(192, 384, kernel_size=(2, 2), stride=(2, 2))\n",
       "      )\n",
       "      (blocks): Sequential(\n",
       "        (0): ConvNeXtBlock(\n",
       "          (conv_dw): Conv2d(384, 384, kernel_size=(7, 7), stride=(1, 1), padding=(3, 3), groups=384)\n",
       "          (norm): LayerNorm((384,), eps=1e-06, elementwise_affine=True)\n",
       "          (mlp): Mlp(\n",
       "            (fc1): Linear(in_features=384, out_features=1536, bias=True)\n",
       "            (act): GELU()\n",
       "            (drop1): Dropout(p=0.0, inplace=False)\n",
       "            (norm): Identity()\n",
       "            (fc2): Linear(in_features=1536, out_features=384, bias=True)\n",
       "            (drop2): Dropout(p=0.0, inplace=False)\n",
       "          )\n",
       "          (shortcut): Identity()\n",
       "          (drop_path): Identity()\n",
       "        )\n",
       "        (1): ConvNeXtBlock(\n",
       "          (conv_dw): Conv2d(384, 384, kernel_size=(7, 7), stride=(1, 1), padding=(3, 3), groups=384)\n",
       "          (norm): LayerNorm((384,), eps=1e-06, elementwise_affine=True)\n",
       "          (mlp): Mlp(\n",
       "            (fc1): Linear(in_features=384, out_features=1536, bias=True)\n",
       "            (act): GELU()\n",
       "            (drop1): Dropout(p=0.0, inplace=False)\n",
       "            (norm): Identity()\n",
       "            (fc2): Linear(in_features=1536, out_features=384, bias=True)\n",
       "            (drop2): Dropout(p=0.0, inplace=False)\n",
       "          )\n",
       "          (shortcut): Identity()\n",
       "          (drop_path): Identity()\n",
       "        )\n",
       "        (2): ConvNeXtBlock(\n",
       "          (conv_dw): Conv2d(384, 384, kernel_size=(7, 7), stride=(1, 1), padding=(3, 3), groups=384)\n",
       "          (norm): LayerNorm((384,), eps=1e-06, elementwise_affine=True)\n",
       "          (mlp): Mlp(\n",
       "            (fc1): Linear(in_features=384, out_features=1536, bias=True)\n",
       "            (act): GELU()\n",
       "            (drop1): Dropout(p=0.0, inplace=False)\n",
       "            (norm): Identity()\n",
       "            (fc2): Linear(in_features=1536, out_features=384, bias=True)\n",
       "            (drop2): Dropout(p=0.0, inplace=False)\n",
       "          )\n",
       "          (shortcut): Identity()\n",
       "          (drop_path): Identity()\n",
       "        )\n",
       "      )\n",
       "    )\n",
       "    (2): ConvNeXtStage(\n",
       "      (downsample): Sequential(\n",
       "        (0): LayerNorm2d((384,), eps=1e-06, elementwise_affine=True)\n",
       "        (1): Conv2d(384, 768, kernel_size=(2, 2), stride=(2, 2))\n",
       "      )\n",
       "      (blocks): Sequential(\n",
       "        (0): ConvNeXtBlock(\n",
       "          (conv_dw): Conv2d(768, 768, kernel_size=(7, 7), stride=(1, 1), padding=(3, 3), groups=768)\n",
       "          (norm): LayerNorm((768,), eps=1e-06, elementwise_affine=True)\n",
       "          (mlp): Mlp(\n",
       "            (fc1): Linear(in_features=768, out_features=3072, bias=True)\n",
       "            (act): GELU()\n",
       "            (drop1): Dropout(p=0.0, inplace=False)\n",
       "            (norm): Identity()\n",
       "            (fc2): Linear(in_features=3072, out_features=768, bias=True)\n",
       "            (drop2): Dropout(p=0.0, inplace=False)\n",
       "          )\n",
       "          (shortcut): Identity()\n",
       "          (drop_path): Identity()\n",
       "        )\n",
       "        (1): ConvNeXtBlock(\n",
       "          (conv_dw): Conv2d(768, 768, kernel_size=(7, 7), stride=(1, 1), padding=(3, 3), groups=768)\n",
       "          (norm): LayerNorm((768,), eps=1e-06, elementwise_affine=True)\n",
       "          (mlp): Mlp(\n",
       "            (fc1): Linear(in_features=768, out_features=3072, bias=True)\n",
       "            (act): GELU()\n",
       "            (drop1): Dropout(p=0.0, inplace=False)\n",
       "            (norm): Identity()\n",
       "            (fc2): Linear(in_features=3072, out_features=768, bias=True)\n",
       "            (drop2): Dropout(p=0.0, inplace=False)\n",
       "          )\n",
       "          (shortcut): Identity()\n",
       "          (drop_path): Identity()\n",
       "        )\n",
       "        (2): ConvNeXtBlock(\n",
       "          (conv_dw): Conv2d(768, 768, kernel_size=(7, 7), stride=(1, 1), padding=(3, 3), groups=768)\n",
       "          (norm): LayerNorm((768,), eps=1e-06, elementwise_affine=True)\n",
       "          (mlp): Mlp(\n",
       "            (fc1): Linear(in_features=768, out_features=3072, bias=True)\n",
       "            (act): GELU()\n",
       "            (drop1): Dropout(p=0.0, inplace=False)\n",
       "            (norm): Identity()\n",
       "            (fc2): Linear(in_features=3072, out_features=768, bias=True)\n",
       "            (drop2): Dropout(p=0.0, inplace=False)\n",
       "          )\n",
       "          (shortcut): Identity()\n",
       "          (drop_path): Identity()\n",
       "        )\n",
       "        (3): ConvNeXtBlock(\n",
       "          (conv_dw): Conv2d(768, 768, kernel_size=(7, 7), stride=(1, 1), padding=(3, 3), groups=768)\n",
       "          (norm): LayerNorm((768,), eps=1e-06, elementwise_affine=True)\n",
       "          (mlp): Mlp(\n",
       "            (fc1): Linear(in_features=768, out_features=3072, bias=True)\n",
       "            (act): GELU()\n",
       "            (drop1): Dropout(p=0.0, inplace=False)\n",
       "            (norm): Identity()\n",
       "            (fc2): Linear(in_features=3072, out_features=768, bias=True)\n",
       "            (drop2): Dropout(p=0.0, inplace=False)\n",
       "          )\n",
       "          (shortcut): Identity()\n",
       "          (drop_path): Identity()\n",
       "        )\n",
       "        (4): ConvNeXtBlock(\n",
       "          (conv_dw): Conv2d(768, 768, kernel_size=(7, 7), stride=(1, 1), padding=(3, 3), groups=768)\n",
       "          (norm): LayerNorm((768,), eps=1e-06, elementwise_affine=True)\n",
       "          (mlp): Mlp(\n",
       "            (fc1): Linear(in_features=768, out_features=3072, bias=True)\n",
       "            (act): GELU()\n",
       "            (drop1): Dropout(p=0.0, inplace=False)\n",
       "            (norm): Identity()\n",
       "            (fc2): Linear(in_features=3072, out_features=768, bias=True)\n",
       "            (drop2): Dropout(p=0.0, inplace=False)\n",
       "          )\n",
       "          (shortcut): Identity()\n",
       "          (drop_path): Identity()\n",
       "        )\n",
       "        (5): ConvNeXtBlock(\n",
       "          (conv_dw): Conv2d(768, 768, kernel_size=(7, 7), stride=(1, 1), padding=(3, 3), groups=768)\n",
       "          (norm): LayerNorm((768,), eps=1e-06, elementwise_affine=True)\n",
       "          (mlp): Mlp(\n",
       "            (fc1): Linear(in_features=768, out_features=3072, bias=True)\n",
       "            (act): GELU()\n",
       "            (drop1): Dropout(p=0.0, inplace=False)\n",
       "            (norm): Identity()\n",
       "            (fc2): Linear(in_features=3072, out_features=768, bias=True)\n",
       "            (drop2): Dropout(p=0.0, inplace=False)\n",
       "          )\n",
       "          (shortcut): Identity()\n",
       "          (drop_path): Identity()\n",
       "        )\n",
       "        (6): ConvNeXtBlock(\n",
       "          (conv_dw): Conv2d(768, 768, kernel_size=(7, 7), stride=(1, 1), padding=(3, 3), groups=768)\n",
       "          (norm): LayerNorm((768,), eps=1e-06, elementwise_affine=True)\n",
       "          (mlp): Mlp(\n",
       "            (fc1): Linear(in_features=768, out_features=3072, bias=True)\n",
       "            (act): GELU()\n",
       "            (drop1): Dropout(p=0.0, inplace=False)\n",
       "            (norm): Identity()\n",
       "            (fc2): Linear(in_features=3072, out_features=768, bias=True)\n",
       "            (drop2): Dropout(p=0.0, inplace=False)\n",
       "          )\n",
       "          (shortcut): Identity()\n",
       "          (drop_path): Identity()\n",
       "        )\n",
       "        (7): ConvNeXtBlock(\n",
       "          (conv_dw): Conv2d(768, 768, kernel_size=(7, 7), stride=(1, 1), padding=(3, 3), groups=768)\n",
       "          (norm): LayerNorm((768,), eps=1e-06, elementwise_affine=True)\n",
       "          (mlp): Mlp(\n",
       "            (fc1): Linear(in_features=768, out_features=3072, bias=True)\n",
       "            (act): GELU()\n",
       "            (drop1): Dropout(p=0.0, inplace=False)\n",
       "            (norm): Identity()\n",
       "            (fc2): Linear(in_features=3072, out_features=768, bias=True)\n",
       "            (drop2): Dropout(p=0.0, inplace=False)\n",
       "          )\n",
       "          (shortcut): Identity()\n",
       "          (drop_path): Identity()\n",
       "        )\n",
       "        (8): ConvNeXtBlock(\n",
       "          (conv_dw): Conv2d(768, 768, kernel_size=(7, 7), stride=(1, 1), padding=(3, 3), groups=768)\n",
       "          (norm): LayerNorm((768,), eps=1e-06, elementwise_affine=True)\n",
       "          (mlp): Mlp(\n",
       "            (fc1): Linear(in_features=768, out_features=3072, bias=True)\n",
       "            (act): GELU()\n",
       "            (drop1): Dropout(p=0.0, inplace=False)\n",
       "            (norm): Identity()\n",
       "            (fc2): Linear(in_features=3072, out_features=768, bias=True)\n",
       "            (drop2): Dropout(p=0.0, inplace=False)\n",
       "          )\n",
       "          (shortcut): Identity()\n",
       "          (drop_path): Identity()\n",
       "        )\n",
       "        (9): ConvNeXtBlock(\n",
       "          (conv_dw): Conv2d(768, 768, kernel_size=(7, 7), stride=(1, 1), padding=(3, 3), groups=768)\n",
       "          (norm): LayerNorm((768,), eps=1e-06, elementwise_affine=True)\n",
       "          (mlp): Mlp(\n",
       "            (fc1): Linear(in_features=768, out_features=3072, bias=True)\n",
       "            (act): GELU()\n",
       "            (drop1): Dropout(p=0.0, inplace=False)\n",
       "            (norm): Identity()\n",
       "            (fc2): Linear(in_features=3072, out_features=768, bias=True)\n",
       "            (drop2): Dropout(p=0.0, inplace=False)\n",
       "          )\n",
       "          (shortcut): Identity()\n",
       "          (drop_path): Identity()\n",
       "        )\n",
       "        (10): ConvNeXtBlock(\n",
       "          (conv_dw): Conv2d(768, 768, kernel_size=(7, 7), stride=(1, 1), padding=(3, 3), groups=768)\n",
       "          (norm): LayerNorm((768,), eps=1e-06, elementwise_affine=True)\n",
       "          (mlp): Mlp(\n",
       "            (fc1): Linear(in_features=768, out_features=3072, bias=True)\n",
       "            (act): GELU()\n",
       "            (drop1): Dropout(p=0.0, inplace=False)\n",
       "            (norm): Identity()\n",
       "            (fc2): Linear(in_features=3072, out_features=768, bias=True)\n",
       "            (drop2): Dropout(p=0.0, inplace=False)\n",
       "          )\n",
       "          (shortcut): Identity()\n",
       "          (drop_path): Identity()\n",
       "        )\n",
       "        (11): ConvNeXtBlock(\n",
       "          (conv_dw): Conv2d(768, 768, kernel_size=(7, 7), stride=(1, 1), padding=(3, 3), groups=768)\n",
       "          (norm): LayerNorm((768,), eps=1e-06, elementwise_affine=True)\n",
       "          (mlp): Mlp(\n",
       "            (fc1): Linear(in_features=768, out_features=3072, bias=True)\n",
       "            (act): GELU()\n",
       "            (drop1): Dropout(p=0.0, inplace=False)\n",
       "            (norm): Identity()\n",
       "            (fc2): Linear(in_features=3072, out_features=768, bias=True)\n",
       "            (drop2): Dropout(p=0.0, inplace=False)\n",
       "          )\n",
       "          (shortcut): Identity()\n",
       "          (drop_path): Identity()\n",
       "        )\n",
       "        (12): ConvNeXtBlock(\n",
       "          (conv_dw): Conv2d(768, 768, kernel_size=(7, 7), stride=(1, 1), padding=(3, 3), groups=768)\n",
       "          (norm): LayerNorm((768,), eps=1e-06, elementwise_affine=True)\n",
       "          (mlp): Mlp(\n",
       "            (fc1): Linear(in_features=768, out_features=3072, bias=True)\n",
       "            (act): GELU()\n",
       "            (drop1): Dropout(p=0.0, inplace=False)\n",
       "            (norm): Identity()\n",
       "            (fc2): Linear(in_features=3072, out_features=768, bias=True)\n",
       "            (drop2): Dropout(p=0.0, inplace=False)\n",
       "          )\n",
       "          (shortcut): Identity()\n",
       "          (drop_path): Identity()\n",
       "        )\n",
       "        (13): ConvNeXtBlock(\n",
       "          (conv_dw): Conv2d(768, 768, kernel_size=(7, 7), stride=(1, 1), padding=(3, 3), groups=768)\n",
       "          (norm): LayerNorm((768,), eps=1e-06, elementwise_affine=True)\n",
       "          (mlp): Mlp(\n",
       "            (fc1): Linear(in_features=768, out_features=3072, bias=True)\n",
       "            (act): GELU()\n",
       "            (drop1): Dropout(p=0.0, inplace=False)\n",
       "            (norm): Identity()\n",
       "            (fc2): Linear(in_features=3072, out_features=768, bias=True)\n",
       "            (drop2): Dropout(p=0.0, inplace=False)\n",
       "          )\n",
       "          (shortcut): Identity()\n",
       "          (drop_path): Identity()\n",
       "        )\n",
       "        (14): ConvNeXtBlock(\n",
       "          (conv_dw): Conv2d(768, 768, kernel_size=(7, 7), stride=(1, 1), padding=(3, 3), groups=768)\n",
       "          (norm): LayerNorm((768,), eps=1e-06, elementwise_affine=True)\n",
       "          (mlp): Mlp(\n",
       "            (fc1): Linear(in_features=768, out_features=3072, bias=True)\n",
       "            (act): GELU()\n",
       "            (drop1): Dropout(p=0.0, inplace=False)\n",
       "            (norm): Identity()\n",
       "            (fc2): Linear(in_features=3072, out_features=768, bias=True)\n",
       "            (drop2): Dropout(p=0.0, inplace=False)\n",
       "          )\n",
       "          (shortcut): Identity()\n",
       "          (drop_path): Identity()\n",
       "        )\n",
       "        (15): ConvNeXtBlock(\n",
       "          (conv_dw): Conv2d(768, 768, kernel_size=(7, 7), stride=(1, 1), padding=(3, 3), groups=768)\n",
       "          (norm): LayerNorm((768,), eps=1e-06, elementwise_affine=True)\n",
       "          (mlp): Mlp(\n",
       "            (fc1): Linear(in_features=768, out_features=3072, bias=True)\n",
       "            (act): GELU()\n",
       "            (drop1): Dropout(p=0.0, inplace=False)\n",
       "            (norm): Identity()\n",
       "            (fc2): Linear(in_features=3072, out_features=768, bias=True)\n",
       "            (drop2): Dropout(p=0.0, inplace=False)\n",
       "          )\n",
       "          (shortcut): Identity()\n",
       "          (drop_path): Identity()\n",
       "        )\n",
       "        (16): ConvNeXtBlock(\n",
       "          (conv_dw): Conv2d(768, 768, kernel_size=(7, 7), stride=(1, 1), padding=(3, 3), groups=768)\n",
       "          (norm): LayerNorm((768,), eps=1e-06, elementwise_affine=True)\n",
       "          (mlp): Mlp(\n",
       "            (fc1): Linear(in_features=768, out_features=3072, bias=True)\n",
       "            (act): GELU()\n",
       "            (drop1): Dropout(p=0.0, inplace=False)\n",
       "            (norm): Identity()\n",
       "            (fc2): Linear(in_features=3072, out_features=768, bias=True)\n",
       "            (drop2): Dropout(p=0.0, inplace=False)\n",
       "          )\n",
       "          (shortcut): Identity()\n",
       "          (drop_path): Identity()\n",
       "        )\n",
       "        (17): ConvNeXtBlock(\n",
       "          (conv_dw): Conv2d(768, 768, kernel_size=(7, 7), stride=(1, 1), padding=(3, 3), groups=768)\n",
       "          (norm): LayerNorm((768,), eps=1e-06, elementwise_affine=True)\n",
       "          (mlp): Mlp(\n",
       "            (fc1): Linear(in_features=768, out_features=3072, bias=True)\n",
       "            (act): GELU()\n",
       "            (drop1): Dropout(p=0.0, inplace=False)\n",
       "            (norm): Identity()\n",
       "            (fc2): Linear(in_features=3072, out_features=768, bias=True)\n",
       "            (drop2): Dropout(p=0.0, inplace=False)\n",
       "          )\n",
       "          (shortcut): Identity()\n",
       "          (drop_path): Identity()\n",
       "        )\n",
       "        (18): ConvNeXtBlock(\n",
       "          (conv_dw): Conv2d(768, 768, kernel_size=(7, 7), stride=(1, 1), padding=(3, 3), groups=768)\n",
       "          (norm): LayerNorm((768,), eps=1e-06, elementwise_affine=True)\n",
       "          (mlp): Mlp(\n",
       "            (fc1): Linear(in_features=768, out_features=3072, bias=True)\n",
       "            (act): GELU()\n",
       "            (drop1): Dropout(p=0.0, inplace=False)\n",
       "            (norm): Identity()\n",
       "            (fc2): Linear(in_features=3072, out_features=768, bias=True)\n",
       "            (drop2): Dropout(p=0.0, inplace=False)\n",
       "          )\n",
       "          (shortcut): Identity()\n",
       "          (drop_path): Identity()\n",
       "        )\n",
       "        (19): ConvNeXtBlock(\n",
       "          (conv_dw): Conv2d(768, 768, kernel_size=(7, 7), stride=(1, 1), padding=(3, 3), groups=768)\n",
       "          (norm): LayerNorm((768,), eps=1e-06, elementwise_affine=True)\n",
       "          (mlp): Mlp(\n",
       "            (fc1): Linear(in_features=768, out_features=3072, bias=True)\n",
       "            (act): GELU()\n",
       "            (drop1): Dropout(p=0.0, inplace=False)\n",
       "            (norm): Identity()\n",
       "            (fc2): Linear(in_features=3072, out_features=768, bias=True)\n",
       "            (drop2): Dropout(p=0.0, inplace=False)\n",
       "          )\n",
       "          (shortcut): Identity()\n",
       "          (drop_path): Identity()\n",
       "        )\n",
       "        (20): ConvNeXtBlock(\n",
       "          (conv_dw): Conv2d(768, 768, kernel_size=(7, 7), stride=(1, 1), padding=(3, 3), groups=768)\n",
       "          (norm): LayerNorm((768,), eps=1e-06, elementwise_affine=True)\n",
       "          (mlp): Mlp(\n",
       "            (fc1): Linear(in_features=768, out_features=3072, bias=True)\n",
       "            (act): GELU()\n",
       "            (drop1): Dropout(p=0.0, inplace=False)\n",
       "            (norm): Identity()\n",
       "            (fc2): Linear(in_features=3072, out_features=768, bias=True)\n",
       "            (drop2): Dropout(p=0.0, inplace=False)\n",
       "          )\n",
       "          (shortcut): Identity()\n",
       "          (drop_path): Identity()\n",
       "        )\n",
       "        (21): ConvNeXtBlock(\n",
       "          (conv_dw): Conv2d(768, 768, kernel_size=(7, 7), stride=(1, 1), padding=(3, 3), groups=768)\n",
       "          (norm): LayerNorm((768,), eps=1e-06, elementwise_affine=True)\n",
       "          (mlp): Mlp(\n",
       "            (fc1): Linear(in_features=768, out_features=3072, bias=True)\n",
       "            (act): GELU()\n",
       "            (drop1): Dropout(p=0.0, inplace=False)\n",
       "            (norm): Identity()\n",
       "            (fc2): Linear(in_features=3072, out_features=768, bias=True)\n",
       "            (drop2): Dropout(p=0.0, inplace=False)\n",
       "          )\n",
       "          (shortcut): Identity()\n",
       "          (drop_path): Identity()\n",
       "        )\n",
       "        (22): ConvNeXtBlock(\n",
       "          (conv_dw): Conv2d(768, 768, kernel_size=(7, 7), stride=(1, 1), padding=(3, 3), groups=768)\n",
       "          (norm): LayerNorm((768,), eps=1e-06, elementwise_affine=True)\n",
       "          (mlp): Mlp(\n",
       "            (fc1): Linear(in_features=768, out_features=3072, bias=True)\n",
       "            (act): GELU()\n",
       "            (drop1): Dropout(p=0.0, inplace=False)\n",
       "            (norm): Identity()\n",
       "            (fc2): Linear(in_features=3072, out_features=768, bias=True)\n",
       "            (drop2): Dropout(p=0.0, inplace=False)\n",
       "          )\n",
       "          (shortcut): Identity()\n",
       "          (drop_path): Identity()\n",
       "        )\n",
       "        (23): ConvNeXtBlock(\n",
       "          (conv_dw): Conv2d(768, 768, kernel_size=(7, 7), stride=(1, 1), padding=(3, 3), groups=768)\n",
       "          (norm): LayerNorm((768,), eps=1e-06, elementwise_affine=True)\n",
       "          (mlp): Mlp(\n",
       "            (fc1): Linear(in_features=768, out_features=3072, bias=True)\n",
       "            (act): GELU()\n",
       "            (drop1): Dropout(p=0.0, inplace=False)\n",
       "            (norm): Identity()\n",
       "            (fc2): Linear(in_features=3072, out_features=768, bias=True)\n",
       "            (drop2): Dropout(p=0.0, inplace=False)\n",
       "          )\n",
       "          (shortcut): Identity()\n",
       "          (drop_path): Identity()\n",
       "        )\n",
       "        (24): ConvNeXtBlock(\n",
       "          (conv_dw): Conv2d(768, 768, kernel_size=(7, 7), stride=(1, 1), padding=(3, 3), groups=768)\n",
       "          (norm): LayerNorm((768,), eps=1e-06, elementwise_affine=True)\n",
       "          (mlp): Mlp(\n",
       "            (fc1): Linear(in_features=768, out_features=3072, bias=True)\n",
       "            (act): GELU()\n",
       "            (drop1): Dropout(p=0.0, inplace=False)\n",
       "            (norm): Identity()\n",
       "            (fc2): Linear(in_features=3072, out_features=768, bias=True)\n",
       "            (drop2): Dropout(p=0.0, inplace=False)\n",
       "          )\n",
       "          (shortcut): Identity()\n",
       "          (drop_path): Identity()\n",
       "        )\n",
       "        (25): ConvNeXtBlock(\n",
       "          (conv_dw): Conv2d(768, 768, kernel_size=(7, 7), stride=(1, 1), padding=(3, 3), groups=768)\n",
       "          (norm): LayerNorm((768,), eps=1e-06, elementwise_affine=True)\n",
       "          (mlp): Mlp(\n",
       "            (fc1): Linear(in_features=768, out_features=3072, bias=True)\n",
       "            (act): GELU()\n",
       "            (drop1): Dropout(p=0.0, inplace=False)\n",
       "            (norm): Identity()\n",
       "            (fc2): Linear(in_features=3072, out_features=768, bias=True)\n",
       "            (drop2): Dropout(p=0.0, inplace=False)\n",
       "          )\n",
       "          (shortcut): Identity()\n",
       "          (drop_path): Identity()\n",
       "        )\n",
       "        (26): ConvNeXtBlock(\n",
       "          (conv_dw): Conv2d(768, 768, kernel_size=(7, 7), stride=(1, 1), padding=(3, 3), groups=768)\n",
       "          (norm): LayerNorm((768,), eps=1e-06, elementwise_affine=True)\n",
       "          (mlp): Mlp(\n",
       "            (fc1): Linear(in_features=768, out_features=3072, bias=True)\n",
       "            (act): GELU()\n",
       "            (drop1): Dropout(p=0.0, inplace=False)\n",
       "            (norm): Identity()\n",
       "            (fc2): Linear(in_features=3072, out_features=768, bias=True)\n",
       "            (drop2): Dropout(p=0.0, inplace=False)\n",
       "          )\n",
       "          (shortcut): Identity()\n",
       "          (drop_path): Identity()\n",
       "        )\n",
       "      )\n",
       "    )\n",
       "    (3): ConvNeXtStage(\n",
       "      (downsample): Sequential(\n",
       "        (0): LayerNorm2d((768,), eps=1e-06, elementwise_affine=True)\n",
       "        (1): Conv2d(768, 1536, kernel_size=(2, 2), stride=(2, 2))\n",
       "      )\n",
       "      (blocks): Sequential(\n",
       "        (0): ConvNeXtBlock(\n",
       "          (conv_dw): Conv2d(1536, 1536, kernel_size=(7, 7), stride=(1, 1), padding=(3, 3), groups=1536)\n",
       "          (norm): LayerNorm((1536,), eps=1e-06, elementwise_affine=True)\n",
       "          (mlp): Mlp(\n",
       "            (fc1): Linear(in_features=1536, out_features=6144, bias=True)\n",
       "            (act): GELU()\n",
       "            (drop1): Dropout(p=0.0, inplace=False)\n",
       "            (norm): Identity()\n",
       "            (fc2): Linear(in_features=6144, out_features=1536, bias=True)\n",
       "            (drop2): Dropout(p=0.0, inplace=False)\n",
       "          )\n",
       "          (shortcut): Identity()\n",
       "          (drop_path): Identity()\n",
       "        )\n",
       "        (1): ConvNeXtBlock(\n",
       "          (conv_dw): Conv2d(1536, 1536, kernel_size=(7, 7), stride=(1, 1), padding=(3, 3), groups=1536)\n",
       "          (norm): LayerNorm((1536,), eps=1e-06, elementwise_affine=True)\n",
       "          (mlp): Mlp(\n",
       "            (fc1): Linear(in_features=1536, out_features=6144, bias=True)\n",
       "            (act): GELU()\n",
       "            (drop1): Dropout(p=0.0, inplace=False)\n",
       "            (norm): Identity()\n",
       "            (fc2): Linear(in_features=6144, out_features=1536, bias=True)\n",
       "            (drop2): Dropout(p=0.0, inplace=False)\n",
       "          )\n",
       "          (shortcut): Identity()\n",
       "          (drop_path): Identity()\n",
       "        )\n",
       "        (2): ConvNeXtBlock(\n",
       "          (conv_dw): Conv2d(1536, 1536, kernel_size=(7, 7), stride=(1, 1), padding=(3, 3), groups=1536)\n",
       "          (norm): LayerNorm((1536,), eps=1e-06, elementwise_affine=True)\n",
       "          (mlp): Mlp(\n",
       "            (fc1): Linear(in_features=1536, out_features=6144, bias=True)\n",
       "            (act): GELU()\n",
       "            (drop1): Dropout(p=0.0, inplace=False)\n",
       "            (norm): Identity()\n",
       "            (fc2): Linear(in_features=6144, out_features=1536, bias=True)\n",
       "            (drop2): Dropout(p=0.0, inplace=False)\n",
       "          )\n",
       "          (shortcut): Identity()\n",
       "          (drop_path): Identity()\n",
       "        )\n",
       "      )\n",
       "    )\n",
       "  )\n",
       "  (norm_pre): Identity()\n",
       "  (head): NormMlpClassifierHead(\n",
       "    (global_pool): SelectAdaptivePool2d (pool_type=avg, flatten=Identity())\n",
       "    (norm): LayerNorm2d((1536,), eps=1e-06, elementwise_affine=True)\n",
       "    (flatten): Flatten(start_dim=1, end_dim=-1)\n",
       "    (pre_logits): Identity()\n",
       "    (drop): Dropout(p=0.0, inplace=False)\n",
       "    (fc): Sequential(\n",
       "      (0): Linear(in_features=1536, out_features=768, bias=True)\n",
       "      (1): LayerNorm((768,), eps=1e-05, elementwise_affine=True)\n",
       "      (2): SiLU()\n",
       "      (3): Dropout(p=0.5, inplace=False)\n",
       "      (4): Linear(in_features=768, out_features=34, bias=True)\n",
       "    )\n",
       "  )\n",
       ")"
      ]
     },
     "execution_count": 15,
     "metadata": {},
     "output_type": "execute_result"
    }
   ],
   "source": [
    "def create_model(num_classes: int) -> nn.Module:\n",
    "    # model = models.efficientnet_b5(weights=models.EfficientNet_B5_Weights.DEFAULT)\n",
    "    # model.classifier = nn.Sequential(nn.Linear(2048, num_classes), nn.Softmax())\n",
    "\n",
    "    # model = timm.models.eva.eva02_base_patch14_448(pretrained=True)\n",
    "    # model.head = nn.Sequential(\n",
    "    #     nn.Linear(768, ),\n",
    "    #     nn.BatchNorm1d(),\n",
    "    #     nn.GELU(),\n",
    "    #     nn.Dropout(0.5),\n",
    "    #     nn.Linear(768, num_classes),\n",
    "    # )\n",
    "\n",
    "    # model = models.convnext_large(weights=models.ConvNeXt_Large_Weights.DEFAULT)\n",
    "    # model.classifier[2] = nn.Sequential(\n",
    "    #     nn.Linear(1536, 1024),\n",
    "    #     nn.LayerNorm(1024),\n",
    "    #     nn.SiLU(),\n",
    "    #     nn.Dropout1d(0.5),\n",
    "    #     nn.Linear(1024, num_classes),\n",
    "    # )\n",
    "\n",
    "    model = timm.models.convnext.convnext_large(pretrained=True)\n",
    "    model.head.fc = nn.Sequential(\n",
    "        nn.Linear(1536, 768),\n",
    "        nn.LayerNorm(768),\n",
    "        nn.SiLU(),\n",
    "        nn.Dropout(0.5),\n",
    "        nn.Linear(768, num_classes),\n",
    "    )\n",
    "\n",
    "    return model\n",
    "\n",
    "\n",
    "create_model(34)"
   ]
  },
  {
   "attachments": {},
   "cell_type": "markdown",
   "id": "6b230af0",
   "metadata": {},
   "source": [
    "## Snapshot Notebook"
   ]
  },
  {
   "cell_type": "code",
   "execution_count": null,
   "id": "7d6e487f",
   "metadata": {},
   "outputs": [],
   "source": [
    "import shutil\n",
    "\n",
    "try:\n",
    "    import IPython\n",
    "\n",
    "    notebook_path = IPython.extract_module_locals()[1][\"__vsc_ipynb_file__\"]\n",
    "except:\n",
    "    notebook_path = f\"{os.getcwd()}/{CFG.job_id}.ipynb\"\n",
    "\n",
    "\n",
    "os.makedirs(CFG.outputs_path, exist_ok=True)\n",
    "shutil.copy(notebook_path, f\"{CFG.outputs_path}/{os.path.split(notebook_path)[1]}\")"
   ]
  },
  {
   "attachments": {},
   "cell_type": "markdown",
   "id": "51da39f9-904f-4abd-a7d2-cdf29c4a6c24",
   "metadata": {},
   "source": [
    "## Run!!"
   ]
  },
  {
   "cell_type": "code",
   "execution_count": 16,
   "id": "005b7ae1",
   "metadata": {},
   "outputs": [
    {
     "data": {
      "text/plain": [
       "device(type='cuda')"
      ]
     },
     "execution_count": 16,
     "metadata": {},
     "output_type": "execute_result"
    }
   ],
   "source": [
    "device = torch.device(\"cuda\") if torch.cuda.is_available() else torch.device(\"cpu\")\n",
    "device"
   ]
  },
  {
   "cell_type": "code",
   "execution_count": 17,
   "id": "b6358e31",
   "metadata": {},
   "outputs": [],
   "source": [
    "from src.random_seed.v1 import seed_everything, seed_worker\n",
    "\n",
    "seed_everything(0)"
   ]
  },
  {
   "cell_type": "code",
   "execution_count": 18,
   "id": "6d03918c",
   "metadata": {},
   "outputs": [],
   "source": [
    "grad_scaler = torch.cuda.amp.GradScaler()"
   ]
  },
  {
   "cell_type": "code",
   "execution_count": null,
   "id": "86142d9a-68b7-4d04-8423-49d28025411d",
   "metadata": {
    "tags": []
   },
   "outputs": [],
   "source": [
    "from src.recorder.v1 import Recorder\n",
    "from time import time\n",
    "\n",
    "\n",
    "for fold_index, (train_idx, valid_idx) in enumerate(\n",
    "    data_fold_splitter.split(X=df, y=df[\"label\"])\n",
    "):\n",
    "    train_df = df.iloc[train_idx]\n",
    "    val_df = df.iloc[valid_idx]\n",
    "\n",
    "    train_dataset = CustomDataset(\n",
    "        train_df[\"path\"].values,\n",
    "        train_df[\"label\"].values,\n",
    "        train_transform,\n",
    "        CFG.num_classes,\n",
    "    )\n",
    "    train_loader = DataLoader(\n",
    "        train_dataset,\n",
    "        batch_size=CFG.batch_size,\n",
    "        shuffle=True,\n",
    "        num_workers=16,  #\n",
    "        pin_memory=True,\n",
    "        drop_last=False,\n",
    "        worker_init_fn=seed_worker,\n",
    "    )\n",
    "    #\n",
    "    val_dataset = CustomDataset(\n",
    "        val_df[\"path\"].values, val_df[\"label\"].values, val_transform, CFG.num_classes\n",
    "    )\n",
    "    val_loader = DataLoader(\n",
    "        val_dataset,\n",
    "        batch_size=CFG.batch_size,\n",
    "        shuffle=True,\n",
    "        num_workers=16,\n",
    "        pin_memory=True,\n",
    "        drop_last=False,\n",
    "        worker_init_fn=seed_worker,\n",
    "    )\n",
    "    model = create_model(CFG.num_classes)\n",
    "    model.to(device)\n",
    "    model.cuda()\n",
    "    optimizer = torch.optim.AdamW(params=model.parameters(), lr=CFG.learning_late)\n",
    "    scheduler = None\n",
    "\n",
    "    recorder = Recorder(\n",
    "        f\"{CFG.recorder_dir}/fold_{fold_index}\", model, optimizer, scheduler\n",
    "    )\n",
    "    print(f\"fold_{fold_index} start\")\n",
    "    if recorder.load_checkpoint(device, \"checkpoint.pt\"):\n",
    "        print(f\"loaded current_epoch: {recorder.current_epoch}\")\n",
    "\n",
    "    criterion = nn.CrossEntropyLoss()\n",
    "\n",
    "    best_val_loss = 100\n",
    "    for epoch_index in range(recorder.current_epoch, CFG.epoch):\n",
    "        seed_everything(epoch_index)\n",
    "\n",
    "        train_start_timestamp = time()\n",
    "        train_dict = train(\n",
    "            model, criterion, optimizer, train_loader, device, grad_scaler\n",
    "        )\n",
    "        train_elapsed_time = time() - train_start_timestamp\n",
    "\n",
    "        val_start_timestamp = time()\n",
    "        val_dict = valid(model, criterion, val_loader, device)\n",
    "        val_elapsed_time = time() - val_start_timestamp\n",
    "\n",
    "        recorder.update_row_dict(\"epoch\", epoch_index + 1)\n",
    "\n",
    "        recorder.update_row_dict(\"train_loss\", train_dict[\"train_loss\"])\n",
    "        recorder.update_row_dict(\"val_loss\", val_dict[\"val_loss\"])\n",
    "\n",
    "        recorder.update_row_dict(\"train_score\", train_dict[\"train_score\"])\n",
    "        recorder.update_row_dict(\"val_score\", val_dict[\"val_score\"])\n",
    "\n",
    "        recorder.update_row_dict(\"train_elapsed_time\", train_elapsed_time)\n",
    "        recorder.update_row_dict(\"val_elapsed_time\", val_elapsed_time)\n",
    "        recorder.flush_row_dict(is_print=True)\n",
    "        recorder.save_line_plot([\"loss\"], [0, 0.1])\n",
    "\n",
    "        save_pred(\n",
    "            f\"{CFG.predict_dir}/fold_{fold_index}/{epoch_index+1}\",\n",
    "            val_dict[\"path\"],\n",
    "            val_dict[\"y_true\"],\n",
    "            val_dict[\"y_pred\"],\n",
    "        )\n",
    "\n",
    "        if recorder.is_best_score(val_dict[\"val_loss\"], \"min\"):\n",
    "            print(f\"best epoch: {epoch_index + 1}\")\n",
    "            recorder.save_checkpoint(epoch_index, \"best_model.pt\")\n",
    "\n",
    "        recorder.save_checkpoint(epoch_index)"
   ]
  },
  {
   "attachments": {},
   "cell_type": "markdown",
   "id": "22d0a58d",
   "metadata": {},
   "source": [
    "## Test"
   ]
  },
  {
   "cell_type": "code",
   "execution_count": 19,
   "id": "61c6a5c5",
   "metadata": {},
   "outputs": [],
   "source": [
    "def get_smaller_box_with_iou_threshold(box1, box2, iou_threshold=0.1):\n",
    "    # box1 = (x1, y1, x2, y2)\n",
    "    # box2 = (x1, y1, x2, y2)\n",
    "\n",
    "    # 상자1의 좌표 추출\n",
    "    x1_box1, y1_box1, x2_box1, y2_box1 = box1\n",
    "    # 상자2의 좌표 추출\n",
    "    x1_box2, y1_box2, x2_box2, y2_box2 = box2\n",
    "\n",
    "    # 상자1의 면적 계산\n",
    "    area_box1 = (x2_box1 - x1_box1) * (y2_box1 - y1_box1)\n",
    "    # 상자2의 면적 계산\n",
    "    area_box2 = (x2_box2 - x1_box2) * (y2_box2 - y1_box2)\n",
    "\n",
    "    # 상자1과 상자2의 겹치는 영역 계산\n",
    "    x_left = max(x1_box1, x1_box2)\n",
    "    y_top = max(y1_box1, y1_box2)\n",
    "    x_right = min(x2_box1, x2_box2)\n",
    "    y_bottom = min(y2_box1, y2_box2)\n",
    "\n",
    "    # 겹치는 영역의 면적 계산\n",
    "    intersection_area = max(0, x_right - x_left) * max(0, y_bottom - y_top)\n",
    "\n",
    "    # IoU 계산\n",
    "    iou = intersection_area / float(area_box1 + area_box2 - intersection_area)\n",
    "\n",
    "    # IoU가 지정한 임계값 이상인 경우, 더 작은 상자 index를 반환\n",
    "    if iou >= iou_threshold:\n",
    "        if area_box1 < area_box2:\n",
    "            return 0\n",
    "        else:\n",
    "            return 1\n",
    "    else:\n",
    "        return None"
   ]
  },
  {
   "cell_type": "code",
   "execution_count": 20,
   "id": "d3e91459",
   "metadata": {},
   "outputs": [
    {
     "name": "stdout",
     "output_type": "stream",
     "text": [
      "1\n"
     ]
    }
   ],
   "source": [
    "print(get_smaller_box_with_iou_threshold((0, 0, 9, 9), (2, 2, 5, 5)))"
   ]
  },
  {
   "cell_type": "code",
   "execution_count": 21,
   "id": "80762fd5",
   "metadata": {},
   "outputs": [],
   "source": [
    "test_transform = A.Compose(\n",
    "    [\n",
    "        A.PadIfNeeded(\n",
    "            456,\n",
    "            456,\n",
    "            border_mode=0,\n",
    "            value=(0, 0, 0),\n",
    "        ),\n",
    "        # A.RandomBrightnessContrast(p=1),\n",
    "        A.ToGray(p=1),\n",
    "        A.Equalize(by_channels=False, p=1),\n",
    "        A.Normalize(mean=(0.5, 0.5, 0.5), std=(0.5, 0.5, 0.5), max_pixel_value=255.0),\n",
    "        ToTensorV2(),\n",
    "    ]\n",
    ")"
   ]
  },
  {
   "cell_type": "code",
   "execution_count": 22,
   "id": "97c07821",
   "metadata": {},
   "outputs": [
    {
     "name": "stdout",
     "output_type": "stream",
     "text": [
      "30\n",
      "1.7036442084849384e-05\n",
      "30\n",
      "3.274208869119762e-05\n",
      "32\n",
      "2.9324548024951837e-05\n",
      "20\n",
      "8.47781902678511e-06\n",
      "31\n",
      "2.2524611565225134e-05\n"
     ]
    }
   ],
   "source": [
    "model_list = []\n",
    "import ttach as tta\n",
    "\n",
    "tta_transforms = tta.Compose(\n",
    "    [\n",
    "        # tta.FiveCrops(350, 350),\n",
    "        # tta.Rotate90(angles=[0, 180]),\n",
    "        # tta.Scale(scales=[1, 2, 4]),\n",
    "        # tta.Multiply(factors=[0.9, 1, 1.1]),\n",
    "        tta.HorizontalFlip(),\n",
    "    ]\n",
    ")\n",
    "\n",
    "for i in range(0, 5):\n",
    "    model = create_model(CFG.num_classes)\n",
    "    model.to(device)\n",
    "    model.cuda()\n",
    "\n",
    "    check_point = torch.load(\n",
    "        f\"{CFG.recorder_dir}/fold_{i}/best_model.pt\",\n",
    "        map_location=device,\n",
    "    )\n",
    "    print(check_point[\"epoch\"])\n",
    "    print(check_point[\"best_score\"])\n",
    "    model.load_state_dict(check_point[\"model\"])\n",
    "    model.eval()\n",
    "    tta_model = tta.ClassificationTTAWrapper(model, tta_transforms)\n",
    "    model_list.append(tta_model)\n",
    "\n",
    "# for i in range(0, 5):\n",
    "#     model = create_model(CFG.num_classes)\n",
    "#     model.to(device)\n",
    "#     model.cuda()\n",
    "\n",
    "#     check_point = torch.load(\n",
    "#         f\"{CFG.recorder_dir}/fold_{i}/checkpoint.pt\",\n",
    "#         map_location=device,\n",
    "#     )\n",
    "#     print(check_point[\"epoch\"])\n",
    "#     print(check_point[\"best_score\"])\n",
    "#     model.load_state_dict(check_point[\"model\"])\n",
    "#     model.eval()\n",
    "#     tta_model = tta.ClassificationTTAWrapper(model, tta_transforms)\n",
    "#     model_list.append(tta_model)"
   ]
  },
  {
   "cell_type": "code",
   "execution_count": 27,
   "id": "904aac17",
   "metadata": {},
   "outputs": [],
   "source": [
    "test_index = 0  # 656"
   ]
  },
  {
   "cell_type": "code",
   "execution_count": 29,
   "id": "bb73ac32",
   "metadata": {},
   "outputs": [
    {
     "name": "stdout",
     "output_type": "stream",
     "text": [
      "/data/dacon_cars/data/test_cars/155231127_0.npy\n",
      "0\n",
      "(252, 246, 3)\n",
      "[[0.    0.    0.001 0.    0.061 0.003 0.001 0.    0.545 0.201 0.    0.001\n",
      "  0.004 0.    0.    0.    0.    0.    0.    0.001 0.    0.    0.    0.178\n",
      "  0.    0.    0.    0.    0.    0.    0.    0.    0.    0.   ]]\n",
      "0.545\n",
      "spark: 0.24300000071525574\n",
      "gene: 0.0010000000474974513\n",
      "8\n",
      "hyundai_avante_sedan_2011_2015\n"
     ]
    },
    {
     "data": {
      "image/png": "[encoded data removed]",
      "text/plain": [
       "<Figure size 500x500 with 1 Axes>"
      ]
     },
     "metadata": {},
     "output_type": "display_data"
    }
   ],
   "source": [
    "from torch.nn import functional as F\n",
    "\n",
    "\n",
    "# test_list = sorted(glob(\"/data/dacon_cars/data/test_cars/*.npy\"))\n",
    "test_list = sorted(glob(\"/data/dacon_cars/data/test_cars/155231127_0.npy\"))\n",
    "print(test_list[test_index])\n",
    "print(test_index)\n",
    "img = cv2.cvtColor(np.load(test_list[test_index]), cv2.COLOR_BGR2RGB)\n",
    "# test_index += 1\n",
    "with torch.no_grad():\n",
    "    print(img.shape)\n",
    "    img = img[5:-5, 5:-5]\n",
    "    test_img = test_transform(image=img)[\"image\"]\n",
    "    test_img = torch.Tensor(test_img).to(device, dtype=torch.float)\n",
    "    test_img = torch.unsqueeze(test_img, 0)\n",
    "    ensemble_probs = None\n",
    "    for tta_model in model_list:\n",
    "        probs = F.softmax(tta_model(test_img), dim=1)\n",
    "        probs = np.round(probs.cpu().detach().numpy(), 3)\n",
    "\n",
    "        if ensemble_probs is None:\n",
    "            ensemble_probs = probs\n",
    "        else:\n",
    "            ensemble_probs = ensemble_probs + probs\n",
    "\n",
    "    ensemble_probs = np.round(ensemble_probs / len(model_list), 3)\n",
    "\n",
    "    top1 = np.max(ensemble_probs)\n",
    "    label = np.argmax(ensemble_probs)\n",
    "    spark_score = ensemble_probs[0][4] + ensemble_probs[0][12] + ensemble_probs[0][23]\n",
    "\n",
    "    gene = ensemble_probs[0][6] + ensemble_probs[0][7]\n",
    "\n",
    "    print(ensemble_probs)\n",
    "    print(top1)\n",
    "    print(f\"spark: {spark_score}\")\n",
    "    print(f\"gene: {gene}\")\n",
    "    print(label)\n",
    "    print(CFG.classes[label])\n",
    "    plt.figure(figsize=(5, 5))\n",
    "    plt.imshow(tensor2im(test_img[0]))\n",
    "    # f\"{test_path}/test\""
   ]
  },
  {
   "cell_type": "code",
   "execution_count": 30,
   "id": "ad42862c",
   "metadata": {},
   "outputs": [
    {
     "name": "stderr",
     "output_type": "stream",
     "text": [
      "124it [00:38,  3.69it/s]"
     ]
    },
    {
     "name": "stdout",
     "output_type": "stream",
     "text": [
      "075817746.png\n",
      "new_spark!: ['075817746.png', 2, '0.346', '796', '312', '1028', '312', '1028', '578', '796', '578', '0.548']\n"
     ]
    },
    {
     "name": "stderr",
     "output_type": "stream",
     "text": [
      "192it [00:57,  2.82it/s]"
     ]
    },
    {
     "name": "stdout",
     "output_type": "stream",
     "text": [
      "082220349.png\n",
      "new_spark!: ['082220349.png', 2, '0.598', '1241', '464', '1489', '464', '1489', '732', '1241', '732', '0.99899995']\n"
     ]
    },
    {
     "name": "stderr",
     "output_type": "stream",
     "text": [
      "208it [01:01,  2.84it/s]"
     ]
    },
    {
     "name": "stdout",
     "output_type": "stream",
     "text": [
      "082653535.png\n",
      "new_spark!: ['082653535.png', 2, '0.547', '804', '240', '1031', '240', '1031', '492', '804', '492', '0.911']\n"
     ]
    },
    {
     "name": "stderr",
     "output_type": "stream",
     "text": [
      "215it [01:04,  3.38it/s]"
     ]
    },
    {
     "name": "stdout",
     "output_type": "stream",
     "text": [
      "082940472.png\n",
      "new_spark!: ['082940472.png', 2, '0.331', '1169', '245', '1403', '245', '1403', '504', '1169', '504', '0.765']\n"
     ]
    },
    {
     "name": "stderr",
     "output_type": "stream",
     "text": [
      "221it [01:06,  3.07it/s]"
     ]
    },
    {
     "name": "stdout",
     "output_type": "stream",
     "text": [
      "083026406.png\n",
      "new_spark!: ['083026406.png', 2, '0.544', '477', '544', '720', '544', '720', '833', '477', '833', '0.77000004']\n"
     ]
    },
    {
     "name": "stderr",
     "output_type": "stream",
     "text": [
      "228it [01:08,  3.63it/s]"
     ]
    },
    {
     "name": "stdout",
     "output_type": "stream",
     "text": [
      "083235511.png\n",
      "new_spark!: ['083235511.png', 2, '0.546', '1154', '159', '1385', '159', '1385', '396', '1154', '396', '0.867']\n"
     ]
    },
    {
     "name": "stderr",
     "output_type": "stream",
     "text": [
      "258it [01:17,  1.65it/s]"
     ]
    },
    {
     "name": "stdout",
     "output_type": "stream",
     "text": [
      "084258536.png\n",
      "new_spark!: ['084258536.png', 2, '0.604', '522', '412', '752', '412', '752', '667', '522', '667', '0.816']\n"
     ]
    },
    {
     "name": "stderr",
     "output_type": "stream",
     "text": [
      "272it [01:21,  3.63it/s]"
     ]
    },
    {
     "name": "stdout",
     "output_type": "stream",
     "text": [
      "084536952.png\n",
      "new_spark!: ['084536952.png', 2, '0.526', '417', '382', '634', '382', '634', '639', '417', '639', '0.79300004']\n"
     ]
    },
    {
     "name": "stderr",
     "output_type": "stream",
     "text": [
      "319it [01:36,  3.34it/s]"
     ]
    },
    {
     "name": "stdout",
     "output_type": "stream",
     "text": [
      "085636462.png\n",
      "new_spark!: ['085636462.png', 2, '0.461', '790', '241', '1016', '241', '1016', '489', '790', '489', '0.78499997']\n"
     ]
    },
    {
     "name": "stderr",
     "output_type": "stream",
     "text": [
      "350it [01:45,  3.67it/s]"
     ]
    },
    {
     "name": "stdout",
     "output_type": "stream",
     "text": [
      "090453226.png\n",
      "new_spark!: ['090453226.png', 2, '0.502', '812', '406', '1052', '406', '1052', '670', '812', '670', '0.90199995']\n"
     ]
    },
    {
     "name": "stderr",
     "output_type": "stream",
     "text": [
      "390it [01:57,  2.10it/s]"
     ]
    },
    {
     "name": "stdout",
     "output_type": "stream",
     "text": [
      "091356569.png\n",
      "new_spark!: ['091356569.png', 2, '0.371', '937', '638', '1187', '638', '1187', '913', '937', '913', '0.79']\n"
     ]
    },
    {
     "name": "stderr",
     "output_type": "stream",
     "text": [
      "410it [02:03,  2.66it/s]"
     ]
    },
    {
     "name": "stdout",
     "output_type": "stream",
     "text": [
      "091809733.png\n",
      "[['091809733.png' '11' '1.0' '740' '176' '1016' '176' '1016' '505' '740'\n",
      "  '505' '0.0']\n",
      " ['091809733.png' '11' '1.0' '1254' '421' '1558' '421' '1558' '771'\n",
      "  '1254' '771' '0.0']]\n",
      "None\n"
     ]
    },
    {
     "name": "stderr",
     "output_type": "stream",
     "text": [
      "417it [02:05,  3.55it/s]"
     ]
    },
    {
     "name": "stdout",
     "output_type": "stream",
     "text": [
      "091927022.png\n",
      "new_spark!: ['091927022.png', 2, '0.431', '1217', '353', '1459', '353', '1459', '606', '1217', '606', '0.776']\n"
     ]
    },
    {
     "name": "stderr",
     "output_type": "stream",
     "text": [
      "520it [02:38,  3.55it/s]"
     ]
    },
    {
     "name": "stdout",
     "output_type": "stream",
     "text": [
      "093738733.png\n",
      "new_spark!: ['093738733.png', 2, '0.214', '435', '312', '665', '312', '665', '573', '435', '573', '0.611']\n"
     ]
    },
    {
     "name": "stderr",
     "output_type": "stream",
     "text": [
      "586it [02:59,  3.56it/s]"
     ]
    },
    {
     "name": "stdout",
     "output_type": "stream",
     "text": [
      "095458342.png\n",
      "new_spark!: ['095458342.png', 2, '0.375', '1272', '555', '1526', '555', '1526', '822', '1272', '822', '0.832']\n"
     ]
    },
    {
     "name": "stderr",
     "output_type": "stream",
     "text": [
      "659it [03:22,  3.59it/s]"
     ]
    },
    {
     "name": "stdout",
     "output_type": "stream",
     "text": [
      "100932883.png\n",
      "new_spark!: ['100932883.png', 2, '0.534', '1142', '161', '1371', '161', '1371', '414', '1142', '414', '0.79499996']\n"
     ]
    },
    {
     "name": "stderr",
     "output_type": "stream",
     "text": [
      "671it [03:26,  2.65it/s]"
     ]
    },
    {
     "name": "stdout",
     "output_type": "stream",
     "text": [
      "101129586.png\n",
      "new_spark!: ['101129586.png', 2, '0.391', '954', '635', '1204', '635', '1204', '913', '954', '913', '0.81700003']\n"
     ]
    },
    {
     "name": "stderr",
     "output_type": "stream",
     "text": [
      "738it [03:47,  2.15it/s]"
     ]
    },
    {
     "name": "stdout",
     "output_type": "stream",
     "text": [
      "102355327.png\n",
      "new_spark!: ['102355327.png', 2, '0.304', '1249', '333', '1489', '333', '1489', '592', '1249', '592', '0.69']\n"
     ]
    },
    {
     "name": "stderr",
     "output_type": "stream",
     "text": [
      "788it [04:02,  3.46it/s]"
     ]
    },
    {
     "name": "stdout",
     "output_type": "stream",
     "text": [
      "102947977.png\n",
      "new_spark!: ['102947977.png', 2, '0.4', '912', '467', '1155', '467', '1155', '748', '912', '748', '0.798']\n"
     ]
    },
    {
     "name": "stderr",
     "output_type": "stream",
     "text": [
      "811it [04:09,  2.25it/s]"
     ]
    },
    {
     "name": "stdout",
     "output_type": "stream",
     "text": [
      "103254450.png\n",
      "new_spark!: ['103254450.png', 2, '0.438', '1225', '266', '1458', '266', '1458', '504', '1225', '504', '0.832']\n"
     ]
    },
    {
     "name": "stderr",
     "output_type": "stream",
     "text": [
      "832it [04:16,  3.38it/s]"
     ]
    },
    {
     "name": "stdout",
     "output_type": "stream",
     "text": [
      "103648046.png\n",
      "new_spark!: ['103648046.png', 2, '0.417', '1193', '229', '1424', '229', '1424', '471', '1193', '471', '0.742']\n"
     ]
    },
    {
     "name": "stderr",
     "output_type": "stream",
     "text": [
      "902it [04:37,  3.57it/s]"
     ]
    },
    {
     "name": "stdout",
     "output_type": "stream",
     "text": [
      "104943288.png\n",
      "new_spark!: ['104943288.png', 2, '0.413', '1140', '110', '1364', '110', '1364', '335', '1140', '335', '0.788']\n"
     ]
    },
    {
     "name": "stderr",
     "output_type": "stream",
     "text": [
      "970it [04:59,  2.61it/s]"
     ]
    },
    {
     "name": "stdout",
     "output_type": "stream",
     "text": [
      "110017426.png\n",
      "new_spark!: ['110017426.png', 2, '0.318', '1189', '173', '1440', '173', '1440', '440', '1189', '440', '0.31999996']\n"
     ]
    },
    {
     "name": "stderr",
     "output_type": "stream",
     "text": [
      "1055it [05:27,  2.83it/s]"
     ]
    },
    {
     "name": "stdout",
     "output_type": "stream",
     "text": [
      "111503789.png\n",
      "new_spark!: ['111503789.png', 2, '0.4', '1312', '404', '1558', '404', '1558', '665', '1312', '665', '0.776']\n"
     ]
    },
    {
     "name": "stderr",
     "output_type": "stream",
     "text": [
      "1088it [05:37,  3.58it/s]"
     ]
    },
    {
     "name": "stdout",
     "output_type": "stream",
     "text": [
      "112000484.png\n",
      "new_spark!: ['112000484.png', 2, '0.519', '439', '267', '647', '267', '647', '498', '439', '498', '0.93299997']\n"
     ]
    },
    {
     "name": "stderr",
     "output_type": "stream",
     "text": [
      "1241it [06:30,  3.07it/s]"
     ]
    },
    {
     "name": "stdout",
     "output_type": "stream",
     "text": [
      "113525669.png\n",
      "new_spark!: ['113525669.png', 2, '0.307', '564', '794', '845', '794', '845', '1072', '564', '1072', '0.308']\n"
     ]
    },
    {
     "name": "stderr",
     "output_type": "stream",
     "text": [
      "1302it [06:49,  2.69it/s]"
     ]
    },
    {
     "name": "stdout",
     "output_type": "stream",
     "text": [
      "114154699.png\n",
      "new_spark!: ['114154699.png', 2, '0.433', '986', '568', '1233', '568', '1233', '851', '986', '851', '0.768']\n"
     ]
    },
    {
     "name": "stderr",
     "output_type": "stream",
     "text": [
      "1341it [07:03,  2.80it/s]"
     ]
    },
    {
     "name": "stdout",
     "output_type": "stream",
     "text": [
      "114631813.png\n",
      "new_spark!: ['114631813.png', 2, '0.648', '1260', '332', '1500', '332', '1500', '585', '1260', '585', '0.989']\n"
     ]
    },
    {
     "name": "stderr",
     "output_type": "stream",
     "text": [
      "1356it [07:09,  2.09it/s]"
     ]
    },
    {
     "name": "stdout",
     "output_type": "stream",
     "text": [
      "114751838.png\n",
      "new_spark!: ['114751838.png', 2, '0.414', '1514', '762', '1788', '762', '1788', '1059', '1514', '1059', '0.727']\n"
     ]
    },
    {
     "name": "stderr",
     "output_type": "stream",
     "text": [
      "1367it [07:13,  3.31it/s]"
     ]
    },
    {
     "name": "stdout",
     "output_type": "stream",
     "text": [
      "114910760.png\n",
      "new_spark!: ['114910760.png', 2, '0.359', '838', '317', '1072', '317', '1072', '578', '838', '578', '0.608']\n"
     ]
    },
    {
     "name": "stderr",
     "output_type": "stream",
     "text": [
      "1428it [07:34,  3.57it/s]"
     ]
    },
    {
     "name": "stdout",
     "output_type": "stream",
     "text": [
      "115748182.png\n",
      "new_spark!: ['115748182.png', 2, '0.244', '1572', '753', '1846', '753', '1846', '1040', '1572', '1040', '0.672']\n"
     ]
    },
    {
     "name": "stderr",
     "output_type": "stream",
     "text": [
      "1448it [07:42,  2.36it/s]"
     ]
    },
    {
     "name": "stdout",
     "output_type": "stream",
     "text": [
      "120224068.png\n",
      "[['120224068.png' '20' '1.0' '1249' '333' '1524' '333' '1524' '590'\n",
      "  '1249' '590' '0.0']\n",
      " ['120224068.png' '16' '1.0' '778' '211' '1061' '211' '1061' '515' '778'\n",
      "  '515' '0.0']]\n",
      "None\n"
     ]
    },
    {
     "name": "stderr",
     "output_type": "stream",
     "text": [
      "1453it [07:43,  3.32it/s]"
     ]
    },
    {
     "name": "stdout",
     "output_type": "stream",
     "text": [
      "120307823.png\n",
      "new_spark!: ['120307823.png', 2, '0.352', '818', '251', '1048', '251', '1048', '500', '818', '500', '0.73600006']\n"
     ]
    },
    {
     "name": "stderr",
     "output_type": "stream",
     "text": [
      "1516it [08:05,  3.10it/s]"
     ]
    },
    {
     "name": "stdout",
     "output_type": "stream",
     "text": [
      "121214700.png\n",
      "new_spark!: ['121214700.png', 2, '0.564', '789', '118', '1007', '118', '1007', '347', '789', '347', '0.982']\n"
     ]
    },
    {
     "name": "stderr",
     "output_type": "stream",
     "text": [
      "1544it [08:14,  3.54it/s]"
     ]
    },
    {
     "name": "stdout",
     "output_type": "stream",
     "text": [
      "121729012.png\n",
      "new_spark!: ['121729012.png', 2, '0.323', '1246', '296', '1482', '296', '1482', '548', '1246', '548', '0.685']\n"
     ]
    },
    {
     "name": "stderr",
     "output_type": "stream",
     "text": [
      "1597it [08:31,  3.47it/s]"
     ]
    },
    {
     "name": "stdout",
     "output_type": "stream",
     "text": [
      "122601972.png\n",
      "new_spark!: ['122601972.png', 2, '0.533', '1269', '302', '1506', '302', '1506', '557', '1269', '557', '0.94799995']\n"
     ]
    },
    {
     "name": "stderr",
     "output_type": "stream",
     "text": [
      "1679it [09:02,  2.51it/s]"
     ]
    },
    {
     "name": "stdout",
     "output_type": "stream",
     "text": [
      "123718050.png\n",
      "[['123718050.png' '10' '1.0' '805' '185' '1063' '185' '1063' '432' '805'\n",
      "  '432' '0.0']\n",
      " ['123718050.png' '28' '1.0' '1543' '749' '1859' '749' '1859' '1071'\n",
      "  '1543' '1071' '0.0']]\n",
      "None\n"
     ]
    },
    {
     "name": "stderr",
     "output_type": "stream",
     "text": [
      "1702it [09:08,  3.47it/s]"
     ]
    },
    {
     "name": "stdout",
     "output_type": "stream",
     "text": [
      "124157654.png\n",
      "new_spark!: ['124157654.png', 2, '0.248', '1295', '288', '1532', '288', '1532', '545', '1295', '545', '0.686']\n"
     ]
    },
    {
     "name": "stderr",
     "output_type": "stream",
     "text": [
      "1733it [09:20,  2.60it/s]"
     ]
    },
    {
     "name": "stdout",
     "output_type": "stream",
     "text": [
      "124738887.png\n",
      "new_spark!: ['124738887.png', 2, '0.403', '1288', '366', '1531', '366', '1531', '630', '1288', '630', '0.75699997']\n"
     ]
    },
    {
     "name": "stderr",
     "output_type": "stream",
     "text": [
      "1755it [09:28,  1.86it/s]"
     ]
    },
    {
     "name": "stdout",
     "output_type": "stream",
     "text": [
      "125050159.png\n",
      "[['125050159.png' '24' '0.999' '860' '378' '1101' '378' '1101' '664'\n",
      "  '860' '664' '0.0']\n",
      " ['125050159.png' '24' '1.0' '1187' '131' '1414' '131' '1414' '388'\n",
      "  '1187' '388' '0.0']]\n",
      "None\n"
     ]
    },
    {
     "name": "stderr",
     "output_type": "stream",
     "text": [
      "1763it [09:31,  3.41it/s]"
     ]
    },
    {
     "name": "stdout",
     "output_type": "stream",
     "text": [
      "125214831.png\n",
      "new_spark!: ['125214831.png', 2, '0.533', '1213', '240', '1445', '240', '1445', '489', '1213', '489', '0.806']\n"
     ]
    },
    {
     "name": "stderr",
     "output_type": "stream",
     "text": [
      "1764it [09:31,  3.47it/s]"
     ]
    },
    {
     "name": "stdout",
     "output_type": "stream",
     "text": [
      "125215532.png\n",
      "new_spark!: ['125215532.png', 2, '0.394', '1439', '672', '1705', '672', '1705', '967', '1439', '967', '0.493']\n"
     ]
    },
    {
     "name": "stderr",
     "output_type": "stream",
     "text": [
      "1870it [10:06,  2.97it/s]"
     ]
    },
    {
     "name": "stdout",
     "output_type": "stream",
     "text": [
      "130842428.png\n",
      "new_spark!: ['130842428.png', 2, '0.421', '1261', '265', '1497', '265', '1497', '521', '1261', '521', '0.832']\n"
     ]
    },
    {
     "name": "stderr",
     "output_type": "stream",
     "text": [
      "1922it [10:23,  2.53it/s]"
     ]
    },
    {
     "name": "stdout",
     "output_type": "stream",
     "text": [
      "131828533.png\n",
      "new_spark!: ['131828533.png', 2, '0.453', '482', '459', '714', '459', '714', '719', '482', '719', '0.906']\n"
     ]
    },
    {
     "name": "stderr",
     "output_type": "stream",
     "text": [
      "1953it [10:33,  2.77it/s]"
     ]
    },
    {
     "name": "stdout",
     "output_type": "stream",
     "text": [
      "132327630.png\n",
      "new_spark!: ['132327630.png', 2, '0.55', '881', '434', '1121', '434', '1121', '701', '881', '701', '0.653']\n"
     ]
    },
    {
     "name": "stderr",
     "output_type": "stream",
     "text": [
      "1977it [10:42,  3.59it/s]"
     ]
    },
    {
     "name": "stdout",
     "output_type": "stream",
     "text": [
      "132639025.png\n",
      "new_spark!: ['132639025.png', 2, '0.368', '952', '531', '1200', '531', '1200', '813', '952', '813', '0.621']\n"
     ]
    },
    {
     "name": "stderr",
     "output_type": "stream",
     "text": [
      "2081it [11:17,  2.85it/s]"
     ]
    },
    {
     "name": "stdout",
     "output_type": "stream",
     "text": [
      "134120027.png\n",
      "new_spark!: ['134120027.png', 2, '0.59', '449', '410', '683', '410', '683', '656', '449', '656', '0.81499994']\n"
     ]
    },
    {
     "name": "stderr",
     "output_type": "stream",
     "text": [
      "2110it [11:29,  2.34it/s]"
     ]
    },
    {
     "name": "stdout",
     "output_type": "stream",
     "text": [
      "134457909.png\n",
      "[['134457909.png' '24' '1.0' '1040' '602' '1301' '602' '1301' '911'\n",
      "  '1040' '911' '0.0']\n",
      " ['134457909.png' '24' '1.0' '807' '89' '1032' '89' '1032' '351' '807'\n",
      "  '351' '0.0']]\n",
      "None\n"
     ]
    },
    {
     "name": "stderr",
     "output_type": "stream",
     "text": [
      "2150it [11:41,  3.46it/s]"
     ]
    },
    {
     "name": "stdout",
     "output_type": "stream",
     "text": [
      "135040213.png\n",
      "new_spark!: ['135040213.png', 2, '0.452', '471', '460', '691', '460', '691', '713', '471', '713', '0.781']\n"
     ]
    },
    {
     "name": "stderr",
     "output_type": "stream",
     "text": [
      "2166it [11:46,  2.96it/s]"
     ]
    },
    {
     "name": "stdout",
     "output_type": "stream",
     "text": [
      "135235756.png\n",
      "new_spark!: ['135235756.png', 2, '0.632', '813', '152', '1035', '152', '1035', '397', '813', '397', '0.902']\n"
     ]
    },
    {
     "name": "stderr",
     "output_type": "stream",
     "text": [
      "2182it [11:51,  3.01it/s]"
     ]
    },
    {
     "name": "stdout",
     "output_type": "stream",
     "text": [
      "135442921.png\n",
      "new_spark!: ['135442921.png', 2, '0.466', '414', '230', '637', '230', '637', '473', '414', '473', '0.75899994']\n"
     ]
    },
    {
     "name": "stderr",
     "output_type": "stream",
     "text": [
      "2191it [11:54,  2.73it/s]"
     ]
    },
    {
     "name": "stdout",
     "output_type": "stream",
     "text": [
      "135633953.png\n",
      "new_spark!: ['135633953.png', 2, '0.599', '1203', '156', '1428', '156', '1428', '387', '1203', '387', '0.944']\n"
     ]
    },
    {
     "name": "stderr",
     "output_type": "stream",
     "text": [
      "2212it [12:01,  3.40it/s]"
     ]
    },
    {
     "name": "stdout",
     "output_type": "stream",
     "text": [
      "135845550.png\n",
      "new_spark!: ['135845550.png', 2, '0.608', '1223', '176', '1450', '176', '1450', '426', '1223', '426', '0.89599997']\n"
     ]
    },
    {
     "name": "stderr",
     "output_type": "stream",
     "text": [
      "2326it [12:41,  2.92it/s]"
     ]
    },
    {
     "name": "stdout",
     "output_type": "stream",
     "text": [
      "141432407.png\n",
      "new_spark!: ['141432407.png', 2, '0.556', '791', '153', '1016', '153', '1016', '389', '791', '389', '0.937']\n"
     ]
    },
    {
     "name": "stderr",
     "output_type": "stream",
     "text": [
      "2355it [12:50,  3.53it/s]"
     ]
    },
    {
     "name": "stdout",
     "output_type": "stream",
     "text": [
      "141814412.png\n",
      "new_spark!: ['141814412.png', 2, '0.643', '754', '125', '977', '125', '977', '365', '754', '365', '0.88600004']\n"
     ]
    },
    {
     "name": "stderr",
     "output_type": "stream",
     "text": [
      "2392it [13:04,  3.25it/s]"
     ]
    },
    {
     "name": "stdout",
     "output_type": "stream",
     "text": [
      "142308548.png\n",
      "new_spark!: ['142308548.png', 2, '0.564', '781', '128', '1003', '128', '1003', '360', '781', '360', '0.977']\n"
     ]
    },
    {
     "name": "stderr",
     "output_type": "stream",
     "text": [
      "2414it [13:11,  3.06it/s]"
     ]
    },
    {
     "name": "stdout",
     "output_type": "stream",
     "text": [
      "142625451.png\n",
      "new_spark!: ['142625451.png', 2, '0.437', '819', '182', '1043', '182', '1043', '426', '819', '426', '0.78']\n"
     ]
    },
    {
     "name": "stderr",
     "output_type": "stream",
     "text": [
      "2540it [13:56,  3.59it/s]"
     ]
    },
    {
     "name": "stdout",
     "output_type": "stream",
     "text": [
      "144127193.png\n",
      "new_spark!: ['144127193.png', 2, '0.502', '819', '244', '1046', '244', '1046', '495', '819', '495', '0.693']\n"
     ]
    },
    {
     "name": "stderr",
     "output_type": "stream",
     "text": [
      "2541it [13:56,  3.59it/s]"
     ]
    },
    {
     "name": "stdout",
     "output_type": "stream",
     "text": [
      "144128099.png\n",
      "new_spark!: ['144128099.png', 2, '0.372', '953', '589', '1201', '589', '1201', '856', '953', '856', '0.802']\n"
     ]
    },
    {
     "name": "stderr",
     "output_type": "stream",
     "text": [
      "2566it [14:05,  2.73it/s]"
     ]
    },
    {
     "name": "stdout",
     "output_type": "stream",
     "text": [
      "144511700.png\n",
      "new_spark!: ['144511700.png', 2, '0.487', '802', '113', '1018', '113', '1018', '339', '802', '339', '0.853']\n"
     ]
    },
    {
     "name": "stderr",
     "output_type": "stream",
     "text": [
      "2580it [14:10,  2.50it/s]"
     ]
    },
    {
     "name": "stdout",
     "output_type": "stream",
     "text": [
      "144807536.png\n",
      "new_spark!: ['144807536.png', 2, '0.403', '1225', '224', '1456', '224', '1456', '467', '1225', '467', '0.786']\n"
     ]
    },
    {
     "name": "stderr",
     "output_type": "stream",
     "text": [
      "2592it [14:14,  3.57it/s]"
     ]
    },
    {
     "name": "stdout",
     "output_type": "stream",
     "text": [
      "145009670.png\n",
      "new_spark!: ['145009670.png', 2, '0.536', '481', '449', '719', '449', '719', '709', '481', '709', '0.82000005']\n"
     ]
    },
    {
     "name": "stderr",
     "output_type": "stream",
     "text": [
      "2599it [14:16,  3.63it/s]"
     ]
    },
    {
     "name": "stdout",
     "output_type": "stream",
     "text": [
      "145207740.png\n",
      "new_spark!: ['145207740.png', 2, '0.644', '1270', '309', '1508', '309', '1508', '564', '1270', '564', '0.843']\n"
     ]
    },
    {
     "name": "stderr",
     "output_type": "stream",
     "text": [
      "2603it [14:17,  3.64it/s]"
     ]
    },
    {
     "name": "stdout",
     "output_type": "stream",
     "text": [
      "145307671.png\n",
      "new_spark!: ['145307671.png', 2, '0.449', '1189', '177', '1419', '177', '1419', '419', '1189', '419', '0.66999996']\n"
     ]
    },
    {
     "name": "stderr",
     "output_type": "stream",
     "text": [
      "2620it [14:23,  2.96it/s]"
     ]
    },
    {
     "name": "stdout",
     "output_type": "stream",
     "text": [
      "145637747.png\n",
      "new_spark!: ['145637747.png', 2, '0.624', '840', '232', '1067', '232', '1067', '489', '840', '489', '0.77000004']\n"
     ]
    },
    {
     "name": "stderr",
     "output_type": "stream",
     "text": [
      "2622it [14:23,  3.28it/s]"
     ]
    },
    {
     "name": "stdout",
     "output_type": "stream",
     "text": [
      "145719875.png\n",
      "new_spark!: ['145719875.png', 2, '0.51', '1451', '638', '1715', '638', '1715', '913', '1451', '913', '0.71']\n"
     ]
    },
    {
     "name": "stderr",
     "output_type": "stream",
     "text": [
      "2638it [14:29,  2.25it/s]"
     ]
    },
    {
     "name": "stdout",
     "output_type": "stream",
     "text": [
      "150026259.png\n",
      "[['150026259.png' '30' '1.0' '962' '643' '1234' '643' '1234' '898' '962'\n",
      "  '898' '0.0']\n",
      " ['150026259.png' '4' '1.0' '798' '245' '1047' '245' '1047' '513' '798'\n",
      "  '513' '1.0']]\n",
      "None\n"
     ]
    },
    {
     "name": "stderr",
     "output_type": "stream",
     "text": [
      "2673it [14:42,  2.69it/s]"
     ]
    },
    {
     "name": "stdout",
     "output_type": "stream",
     "text": [
      "150624990.png\n",
      "[['150624990.png' '12' '1.0' '714' '5' '1009' '5' '1009' '203' '714'\n",
      "  '203' '1.0']\n",
      " ['150624990.png' '12' '1.0' '714' '5' '948' '5' '948' '203' '714' '203'\n",
      "  '1.0']]\n",
      "1\n"
     ]
    },
    {
     "name": "stderr",
     "output_type": "stream",
     "text": [
      "2679it [14:44,  2.46it/s]"
     ]
    },
    {
     "name": "stdout",
     "output_type": "stream",
     "text": [
      "150722394.png\n",
      "new_spark!: ['150722394.png', 2, '0.581', '815', '105', '1036', '105', '1036', '333', '815', '333', '0.919']\n"
     ]
    },
    {
     "name": "stderr",
     "output_type": "stream",
     "text": [
      "2721it [14:58,  3.61it/s]"
     ]
    },
    {
     "name": "stdout",
     "output_type": "stream",
     "text": [
      "151403452.png\n",
      "new_spark!: ['151403452.png', 2, '0.627', '805', '127', '1027', '127', '1027', '370', '805', '370', '0.86099994']\n"
     ]
    },
    {
     "name": "stderr",
     "output_type": "stream",
     "text": [
      "2745it [15:07,  3.16it/s]"
     ]
    },
    {
     "name": "stdout",
     "output_type": "stream",
     "text": [
      "151819461.png\n",
      "new_spark!: ['151819461.png', 2, '0.499', '1146', '87', '1369', '87', '1369', '311', '1146', '311', '0.92700005']\n"
     ]
    },
    {
     "name": "stderr",
     "output_type": "stream",
     "text": [
      "2757it [15:11,  2.23it/s]"
     ]
    },
    {
     "name": "stdout",
     "output_type": "stream",
     "text": [
      "152123129.png\n",
      "new_spark!: ['152123129.png', 2, '0.495', '824', '304', '1054', '304', '1054', '570', '824', '570', '0.749']\n"
     ]
    },
    {
     "name": "stderr",
     "output_type": "stream",
     "text": [
      "2760it [15:13,  2.54it/s]"
     ]
    },
    {
     "name": "stdout",
     "output_type": "stream",
     "text": [
      "152332968.png\n",
      "new_spark!: ['152332968.png', 2, '0.538', '806', '85', '1022', '85', '1022', '314', '806', '314', '0.972']\n"
     ]
    },
    {
     "name": "stderr",
     "output_type": "stream",
     "text": [
      "2763it [15:14,  2.31it/s]"
     ]
    },
    {
     "name": "stdout",
     "output_type": "stream",
     "text": [
      "152415267.png\n",
      "new_spark!: ['152415267.png', 2, '0.397', '802', '155', '1021', '155', '1021', '390', '802', '390', '0.65']\n"
     ]
    },
    {
     "name": "stderr",
     "output_type": "stream",
     "text": [
      "2767it [15:16,  2.61it/s]"
     ]
    },
    {
     "name": "stdout",
     "output_type": "stream",
     "text": [
      "152528869.png\n",
      "new_spark!: ['152528869.png', 2, '0.488', '805', '230', '1031', '230', '1031', '474', '805', '474', '0.68299997']\n"
     ]
    },
    {
     "name": "stderr",
     "output_type": "stream",
     "text": [
      "2823it [15:34,  3.00it/s]"
     ]
    },
    {
     "name": "stdout",
     "output_type": "stream",
     "text": [
      "154154250.png\n",
      "new_spark!: ['154154250.png', 2, '0.492', '432', '253', '659', '253', '659', '493', '432', '493', '0.87100005']\n"
     ]
    },
    {
     "name": "stderr",
     "output_type": "stream",
     "text": [
      "2864it [15:48,  3.34it/s]"
     ]
    },
    {
     "name": "stdout",
     "output_type": "stream",
     "text": [
      "154730787.png\n",
      "new_spark!: ['154730787.png', 2, '0.444', '1188', '238', '1422', '238', '1422', '483', '1188', '483', '0.55300003']\n"
     ]
    },
    {
     "name": "stderr",
     "output_type": "stream",
     "text": [
      "3002it [16:38,  1.70it/s]"
     ]
    },
    {
     "name": "stdout",
     "output_type": "stream",
     "text": [
      "161544056.png\n",
      "[['161544056.png' '27' '0.403' '1161' '152' '1431' '152' '1431' '426'\n",
      "  '1161' '426' '0.028']\n",
      " ['161544056.png' '28' '1.0' '672' '5' '913' '5' '913' '220' '672' '220'\n",
      "  '0.0']\n",
      " ['161544056.png' '26' '0.384' '1411' '499' '1748' '499' '1748' '985'\n",
      "  '1411' '985' '0.011']\n",
      " ['161544056.png' '28' '1.0' '671' '5' '990' '5' '990' '220' '671' '220'\n",
      "  '0.0']]\n",
      "0\n"
     ]
    },
    {
     "name": "stderr",
     "output_type": "stream",
     "text": [
      "3103it [17:20,  2.65it/s]"
     ]
    },
    {
     "name": "stdout",
     "output_type": "stream",
     "text": [
      "163730466.png\n",
      "[['163730466.png' '28' '1.0' '661' '5' '902' '5' '902' '218' '661' '218'\n",
      "  '0.0']\n",
      " ['163730466.png' '28' '1.0' '661' '5' '983' '5' '983' '219' '661' '219'\n",
      "  '0.0']]\n",
      "0\n"
     ]
    },
    {
     "name": "stderr",
     "output_type": "stream",
     "text": [
      "3284it [18:52,  1.57it/s]"
     ]
    },
    {
     "name": "stdout",
     "output_type": "stream",
     "text": [
      "173904351.png\n",
      "[['173904351.png' '30' '1.0' '365' '260' '612' '260' '612' '496' '365'\n",
      "  '496' '0.0']\n",
      " ['173904351.png' '13' '0.639' '1145' '81' '1400' '81' '1400' '346'\n",
      "  '1145' '346' '0.001']\n",
      " ['173904351.png' '21' '0.999' '808' '286' '1065' '286' '1065' '578'\n",
      "  '808' '578' '0.0']]\n",
      "None\n"
     ]
    },
    {
     "name": "stderr",
     "output_type": "stream",
     "text": [
      "3400it [19:46,  2.87it/s]\n"
     ]
    }
   ],
   "source": [
    "bbox_submit = pd.read_csv(\"/data/dacon_cars/data/bbox_submit_npy.csv\")\n",
    "filenames = sorted(os.listdir(\"/data/dacon_cars/data/test\"))\n",
    "\n",
    "total_list = []\n",
    "for target in tqdm(iter(filenames)):\n",
    "    car_info_df = bbox_submit[\n",
    "        (bbox_submit[\"file_name\"] == target)\n",
    "        # & ((bbox_submit[\"point3_x\"] - bbox_submit[\"point1_x\"]) <= 370)\n",
    "        # & ((bbox_submit[\"point3_y\"] - bbox_submit[\"point1_y\"]) <= 441)\n",
    "    ]\n",
    "    # print(one_test)\n",
    "    # if \"064507368\" not in target:\n",
    "    #     continue\n",
    "\n",
    "    infer_list = []\n",
    "    for i, car_info in car_info_df.iterrows():\n",
    "        file_name = car_info[\"file_name\"]\n",
    "\n",
    "        img = cv2.cvtColor(\n",
    "            cv2.imread(f\"/data/dacon_cars/data/test/{file_name}\"),\n",
    "            cv2.COLOR_BGR2RGB,\n",
    "        )\n",
    "        pt1x = int(np.round(car_info[\"point1_x\"])) + 5\n",
    "        pt1y = int(np.round(car_info[\"point1_y\"])) + 5\n",
    "        pt2x = int(np.round(car_info[\"point2_x\"])) - 5\n",
    "        pt2y = int(np.round(car_info[\"point2_y\"])) + 5\n",
    "        pt3x = int(np.round(car_info[\"point3_x\"])) - 5\n",
    "        pt3y = int(np.round(car_info[\"point3_y\"])) - 5\n",
    "        pt4x = int(np.round(car_info[\"point4_x\"])) + 5\n",
    "        pt4y = int(np.round(car_info[\"point4_y\"])) - 5\n",
    "\n",
    "        img = img[pt1y:pt3y, pt1x:pt3x]\n",
    "        with torch.no_grad():\n",
    "            img = test_transform(image=img)[\"image\"]\n",
    "            img = torch.Tensor(img).to(device, dtype=torch.float)\n",
    "            img = torch.unsqueeze(img, 0)\n",
    "            ensemble_probs = None\n",
    "            for tta_model in model_list:\n",
    "                probs = F.softmax(tta_model(img), dim=1)\n",
    "                probs = np.round(probs.cpu().detach().numpy(), 3)\n",
    "\n",
    "                if ensemble_probs is None:\n",
    "                    ensemble_probs = probs\n",
    "                else:\n",
    "                    ensemble_probs = ensemble_probs + probs\n",
    "\n",
    "            ensemble_probs = np.round(ensemble_probs / len(model_list), 3)\n",
    "\n",
    "        # for j in range(len(ensemble_probs)):\n",
    "        #     ensemble_probs[j][2] = (\n",
    "        #         ensemble_probs[j][4] + ensemble_probs[j][12] + ensemble_probs[j][23]\n",
    "        #     )\n",
    "        # if \"075817746\" in file_name:\n",
    "        #     print(file_name)\n",
    "        class_id = np.argmax(ensemble_probs)\n",
    "        confidence = ensemble_probs[0][class_id]\n",
    "        spark_score = (\n",
    "            ensemble_probs[0][4] + ensemble_probs[0][12] + ensemble_probs[0][23]\n",
    "        )\n",
    "\n",
    "        infer_list.append(\n",
    "            [\n",
    "                file_name,\n",
    "                class_id,\n",
    "                confidence,\n",
    "                pt1x,\n",
    "                pt1y,\n",
    "                pt2x,\n",
    "                pt2y,\n",
    "                pt3x,\n",
    "                pt3y,\n",
    "                pt4x,\n",
    "                pt4y,\n",
    "                spark_score,\n",
    "            ]\n",
    "        )\n",
    "\n",
    "    infer_array = np.array(infer_list)\n",
    "    max_confidence_list = []\n",
    "    try:\n",
    "        # if len(np.where(infer_array.T[2].astype(float) > 0.99)[0]) > 1:\n",
    "        high_confi = np.where(infer_array.T[2].astype(float) >= 0.999)[0]\n",
    "        if len(high_confi) > 1:\n",
    "            print(target)\n",
    "            print(infer_array)\n",
    "\n",
    "            box1 = infer_array[high_confi][0]\n",
    "            box2 = infer_array[high_confi][1]\n",
    "\n",
    "            smaller_index = get_smaller_box_with_iou_threshold(\n",
    "                (int(box1[3]), int(box1[4]), int(box1[7]), int(box1[8])),\n",
    "                (int(box2[3]), int(box2[4]), int(box2[7]), int(box2[8])),\n",
    "            )\n",
    "            print(smaller_index)\n",
    "\n",
    "            if smaller_index is None:  # 안겹침\n",
    "                # total_list.append(infer_array[np.argmax(infer_array.T[2])].tolist())\n",
    "                total_list.append(box1.tolist())\n",
    "                total_list.append(box2.tolist())\n",
    "            else:\n",
    "                if smaller_index == 0:\n",
    "                    total_list.append(box1.tolist())\n",
    "                else:\n",
    "                    total_list.append(box2.tolist())\n",
    "            continue\n",
    "\n",
    "        top_score = float(infer_array[np.argmax(infer_array.T[2])][2])\n",
    "        if top_score < 0.65:\n",
    "            new_spark = infer_array[np.argmax(infer_array.T[11])].tolist()\n",
    "\n",
    "            if top_score <= float(new_spark[11]):\n",
    "                new_spark[1] = 2\n",
    "                total_list.append(new_spark)\n",
    "                print(target)\n",
    "                print(f\"new_spark!: {new_spark}\")\n",
    "                continue\n",
    "\n",
    "        total_list.append(infer_array[np.argmax(infer_array.T[2])].tolist())\n",
    "\n",
    "    except Exception as e:\n",
    "        print(e)\n",
    "        print(car_info)\n",
    "\n",
    "    # total_list.append(max_confidence_list.copy())"
   ]
  },
  {
   "cell_type": "code",
   "execution_count": 31,
   "id": "3e573e20",
   "metadata": {},
   "outputs": [
    {
     "data": {
      "text/html": [
       "<div>\n",
       "<style scoped>\n",
       "    .dataframe tbody tr th:only-of-type {\n",
       "        vertical-align: middle;\n",
       "    }\n",
       "\n",
       "    .dataframe tbody tr th {\n",
       "        vertical-align: top;\n",
       "    }\n",
       "\n",
       "    .dataframe thead th {\n",
       "        text-align: right;\n",
       "    }\n",
       "</style>\n",
       "<table border=\"1\" class=\"dataframe\">\n",
       "  <thead>\n",
       "    <tr style=\"text-align: right;\">\n",
       "      <th></th>\n",
       "      <th>file_name</th>\n",
       "      <th>class_id</th>\n",
       "      <th>confidence</th>\n",
       "      <th>point1_x</th>\n",
       "      <th>point1_y</th>\n",
       "      <th>point2_x</th>\n",
       "      <th>point2_y</th>\n",
       "      <th>point3_x</th>\n",
       "      <th>point3_y</th>\n",
       "      <th>point4_x</th>\n",
       "      <th>point4_y</th>\n",
       "      <th>spark_score</th>\n",
       "    </tr>\n",
       "  </thead>\n",
       "  <tbody>\n",
       "    <tr>\n",
       "      <th>0</th>\n",
       "      <td>064442001.png</td>\n",
       "      <td>16</td>\n",
       "      <td>0.999</td>\n",
       "      <td>1142</td>\n",
       "      <td>183</td>\n",
       "      <td>1431</td>\n",
       "      <td>183</td>\n",
       "      <td>1431</td>\n",
       "      <td>493</td>\n",
       "      <td>1142</td>\n",
       "      <td>493</td>\n",
       "      <td>0.0</td>\n",
       "    </tr>\n",
       "    <tr>\n",
       "      <th>1</th>\n",
       "      <td>064507368.png</td>\n",
       "      <td>16</td>\n",
       "      <td>0.876</td>\n",
       "      <td>494</td>\n",
       "      <td>127</td>\n",
       "      <td>762</td>\n",
       "      <td>127</td>\n",
       "      <td>762</td>\n",
       "      <td>425</td>\n",
       "      <td>494</td>\n",
       "      <td>425</td>\n",
       "      <td>0.001</td>\n",
       "    </tr>\n",
       "    <tr>\n",
       "      <th>2</th>\n",
       "      <td>065131036.png</td>\n",
       "      <td>3</td>\n",
       "      <td>1.0</td>\n",
       "      <td>1112</td>\n",
       "      <td>58</td>\n",
       "      <td>1359</td>\n",
       "      <td>58</td>\n",
       "      <td>1359</td>\n",
       "      <td>317</td>\n",
       "      <td>1112</td>\n",
       "      <td>317</td>\n",
       "      <td>0.0</td>\n",
       "    </tr>\n",
       "    <tr>\n",
       "      <th>3</th>\n",
       "      <td>065147868.png</td>\n",
       "      <td>16</td>\n",
       "      <td>0.998</td>\n",
       "      <td>729</td>\n",
       "      <td>189</td>\n",
       "      <td>1013</td>\n",
       "      <td>189</td>\n",
       "      <td>1013</td>\n",
       "      <td>496</td>\n",
       "      <td>729</td>\n",
       "      <td>496</td>\n",
       "      <td>0.0</td>\n",
       "    </tr>\n",
       "    <tr>\n",
       "      <th>4</th>\n",
       "      <td>065203472.png</td>\n",
       "      <td>8</td>\n",
       "      <td>1.0</td>\n",
       "      <td>539</td>\n",
       "      <td>767</td>\n",
       "      <td>831</td>\n",
       "      <td>767</td>\n",
       "      <td>831</td>\n",
       "      <td>1044</td>\n",
       "      <td>539</td>\n",
       "      <td>1044</td>\n",
       "      <td>0.0</td>\n",
       "    </tr>\n",
       "    <tr>\n",
       "      <th>...</th>\n",
       "      <td>...</td>\n",
       "      <td>...</td>\n",
       "      <td>...</td>\n",
       "      <td>...</td>\n",
       "      <td>...</td>\n",
       "      <td>...</td>\n",
       "      <td>...</td>\n",
       "      <td>...</td>\n",
       "      <td>...</td>\n",
       "      <td>...</td>\n",
       "      <td>...</td>\n",
       "      <td>...</td>\n",
       "    </tr>\n",
       "    <tr>\n",
       "      <th>3402</th>\n",
       "      <td>183730886.png</td>\n",
       "      <td>1</td>\n",
       "      <td>1.0</td>\n",
       "      <td>1325</td>\n",
       "      <td>599</td>\n",
       "      <td>1617</td>\n",
       "      <td>599</td>\n",
       "      <td>1617</td>\n",
       "      <td>870</td>\n",
       "      <td>1325</td>\n",
       "      <td>870</td>\n",
       "      <td>0.0</td>\n",
       "    </tr>\n",
       "    <tr>\n",
       "      <th>3403</th>\n",
       "      <td>183744509.png</td>\n",
       "      <td>1</td>\n",
       "      <td>0.8</td>\n",
       "      <td>915</td>\n",
       "      <td>697</td>\n",
       "      <td>1205</td>\n",
       "      <td>697</td>\n",
       "      <td>1205</td>\n",
       "      <td>978</td>\n",
       "      <td>915</td>\n",
       "      <td>978</td>\n",
       "      <td>0.0</td>\n",
       "    </tr>\n",
       "    <tr>\n",
       "      <th>3404</th>\n",
       "      <td>183911746.png</td>\n",
       "      <td>27</td>\n",
       "      <td>1.0</td>\n",
       "      <td>756</td>\n",
       "      <td>274</td>\n",
       "      <td>1004</td>\n",
       "      <td>274</td>\n",
       "      <td>1004</td>\n",
       "      <td>558</td>\n",
       "      <td>756</td>\n",
       "      <td>558</td>\n",
       "      <td>0.0</td>\n",
       "    </tr>\n",
       "    <tr>\n",
       "      <th>3405</th>\n",
       "      <td>183928410.png</td>\n",
       "      <td>27</td>\n",
       "      <td>1.0</td>\n",
       "      <td>689</td>\n",
       "      <td>52</td>\n",
       "      <td>918</td>\n",
       "      <td>52</td>\n",
       "      <td>918</td>\n",
       "      <td>303</td>\n",
       "      <td>689</td>\n",
       "      <td>303</td>\n",
       "      <td>0.0</td>\n",
       "    </tr>\n",
       "    <tr>\n",
       "      <th>3406</th>\n",
       "      <td>184121675.png</td>\n",
       "      <td>27</td>\n",
       "      <td>1.0</td>\n",
       "      <td>882</td>\n",
       "      <td>556</td>\n",
       "      <td>1151</td>\n",
       "      <td>556</td>\n",
       "      <td>1151</td>\n",
       "      <td>870</td>\n",
       "      <td>882</td>\n",
       "      <td>870</td>\n",
       "      <td>0.0</td>\n",
       "    </tr>\n",
       "  </tbody>\n",
       "</table>\n",
       "<p>3407 rows × 12 columns</p>\n",
       "</div>"
      ],
      "text/plain": [
       "          file_name class_id confidence point1_x point1_y point2_x point2_y  \\\n",
       "0     064442001.png       16      0.999     1142      183     1431      183   \n",
       "1     064507368.png       16      0.876      494      127      762      127   \n",
       "2     065131036.png        3        1.0     1112       58     1359       58   \n",
       "3     065147868.png       16      0.998      729      189     1013      189   \n",
       "4     065203472.png        8        1.0      539      767      831      767   \n",
       "...             ...      ...        ...      ...      ...      ...      ...   \n",
       "3402  183730886.png        1        1.0     1325      599     1617      599   \n",
       "3403  183744509.png        1        0.8      915      697     1205      697   \n",
       "3404  183911746.png       27        1.0      756      274     1004      274   \n",
       "3405  183928410.png       27        1.0      689       52      918       52   \n",
       "3406  184121675.png       27        1.0      882      556     1151      556   \n",
       "\n",
       "     point3_x point3_y point4_x point4_y spark_score  \n",
       "0        1431      493     1142      493         0.0  \n",
       "1         762      425      494      425       0.001  \n",
       "2        1359      317     1112      317         0.0  \n",
       "3        1013      496      729      496         0.0  \n",
       "4         831     1044      539     1044         0.0  \n",
       "...       ...      ...      ...      ...         ...  \n",
       "3402     1617      870     1325      870         0.0  \n",
       "3403     1205      978      915      978         0.0  \n",
       "3404     1004      558      756      558         0.0  \n",
       "3405      918      303      689      303         0.0  \n",
       "3406     1151      870      882      870         0.0  \n",
       "\n",
       "[3407 rows x 12 columns]"
      ]
     },
     "execution_count": 31,
     "metadata": {},
     "output_type": "execute_result"
    }
   ],
   "source": [
    "submit_df = pd.DataFrame(\n",
    "    total_list,\n",
    "    columns=[\n",
    "        \"file_name\",\n",
    "        \"class_id\",\n",
    "        \"confidence\",\n",
    "        \"point1_x\",\n",
    "        \"point1_y\",\n",
    "        \"point2_x\",\n",
    "        \"point2_y\",\n",
    "        \"point3_x\",\n",
    "        \"point3_y\",\n",
    "        \"point4_x\",\n",
    "        \"point4_y\",\n",
    "        \"spark_score\",\n",
    "    ],\n",
    ")\n",
    "\n",
    "# submit_df.astype(\n",
    "#     {\n",
    "#         \"file_name\": \"string\",\n",
    "#         \"class_id\": \"int\",\n",
    "#         \"confidence\": \"float\",\n",
    "#         \"point1_x\": \"float\",\n",
    "#         \"point1_y\": \"float\",\n",
    "#         \"point2_x\": \"float\",\n",
    "#         \"point2_y\": \"float\",\n",
    "#         \"point3_x\": \"float\",\n",
    "#         \"point3_y\": \"float\",\n",
    "#         \"point4_x\": \"float\",\n",
    "#         \"point4_y\": \"float\",\n",
    "#     }\n",
    "# )\n",
    "submit_df"
   ]
  },
  {
   "cell_type": "code",
   "execution_count": 32,
   "id": "0607067f",
   "metadata": {},
   "outputs": [],
   "source": [
    "submit_df.to_csv(\"/data/submit_spark_score_보정_재현1.csv\", index=False)\n",
    "submit_df = pd.read_csv(\"/data/submit_spark_score_보정_재현1.csv\")"
   ]
  },
  {
   "cell_type": "code",
   "execution_count": null,
   "id": "59175332",
   "metadata": {},
   "outputs": [],
   "source": [
    "img = cv2.imread(f\"/data/dacon_cars/data/test/134457909.png\")\n",
    "img = img[5:-5, 5:-5]\n",
    "img = cv2.resize(img, (0, 0), fx=0.5, fy=0.5)\n",
    "print(img.shape)\n",
    "plt.imshow(img)"
   ]
  },
  {
   "cell_type": "code",
   "execution_count": null,
   "id": "55ad8112",
   "metadata": {},
   "outputs": [],
   "source": [
    "submit_df[(submit_df[\"file_name\"] == \"161544056.png\")]"
   ]
  },
  {
   "cell_type": "code",
   "execution_count": 33,
   "id": "dc585633",
   "metadata": {},
   "outputs": [
    {
     "data": {
      "text/html": [
       "<div>\n",
       "<style scoped>\n",
       "    .dataframe tbody tr th:only-of-type {\n",
       "        vertical-align: middle;\n",
       "    }\n",
       "\n",
       "    .dataframe tbody tr th {\n",
       "        vertical-align: top;\n",
       "    }\n",
       "\n",
       "    .dataframe thead th {\n",
       "        text-align: right;\n",
       "    }\n",
       "</style>\n",
       "<table border=\"1\" class=\"dataframe\">\n",
       "  <thead>\n",
       "    <tr style=\"text-align: right;\">\n",
       "      <th></th>\n",
       "      <th>file_name</th>\n",
       "      <th>class_id</th>\n",
       "      <th>confidence</th>\n",
       "      <th>point1_x</th>\n",
       "      <th>point1_y</th>\n",
       "      <th>point2_x</th>\n",
       "      <th>point2_y</th>\n",
       "      <th>point3_x</th>\n",
       "      <th>point3_y</th>\n",
       "      <th>point4_x</th>\n",
       "      <th>point4_y</th>\n",
       "      <th>spark_score</th>\n",
       "    </tr>\n",
       "  </thead>\n",
       "  <tbody>\n",
       "    <tr>\n",
       "      <th>123</th>\n",
       "      <td>075817746.png</td>\n",
       "      <td>2</td>\n",
       "      <td>0.346</td>\n",
       "      <td>796</td>\n",
       "      <td>312</td>\n",
       "      <td>1028</td>\n",
       "      <td>312</td>\n",
       "      <td>1028</td>\n",
       "      <td>578</td>\n",
       "      <td>796</td>\n",
       "      <td>578</td>\n",
       "      <td>0.548</td>\n",
       "    </tr>\n",
       "    <tr>\n",
       "      <th>191</th>\n",
       "      <td>082220349.png</td>\n",
       "      <td>2</td>\n",
       "      <td>0.598</td>\n",
       "      <td>1241</td>\n",
       "      <td>464</td>\n",
       "      <td>1489</td>\n",
       "      <td>464</td>\n",
       "      <td>1489</td>\n",
       "      <td>732</td>\n",
       "      <td>1241</td>\n",
       "      <td>732</td>\n",
       "      <td>0.999</td>\n",
       "    </tr>\n",
       "    <tr>\n",
       "      <th>207</th>\n",
       "      <td>082653535.png</td>\n",
       "      <td>2</td>\n",
       "      <td>0.547</td>\n",
       "      <td>804</td>\n",
       "      <td>240</td>\n",
       "      <td>1031</td>\n",
       "      <td>240</td>\n",
       "      <td>1031</td>\n",
       "      <td>492</td>\n",
       "      <td>804</td>\n",
       "      <td>492</td>\n",
       "      <td>0.911</td>\n",
       "    </tr>\n",
       "    <tr>\n",
       "      <th>214</th>\n",
       "      <td>082940472.png</td>\n",
       "      <td>2</td>\n",
       "      <td>0.331</td>\n",
       "      <td>1169</td>\n",
       "      <td>245</td>\n",
       "      <td>1403</td>\n",
       "      <td>245</td>\n",
       "      <td>1403</td>\n",
       "      <td>504</td>\n",
       "      <td>1169</td>\n",
       "      <td>504</td>\n",
       "      <td>0.765</td>\n",
       "    </tr>\n",
       "    <tr>\n",
       "      <th>220</th>\n",
       "      <td>083026406.png</td>\n",
       "      <td>2</td>\n",
       "      <td>0.544</td>\n",
       "      <td>477</td>\n",
       "      <td>544</td>\n",
       "      <td>720</td>\n",
       "      <td>544</td>\n",
       "      <td>720</td>\n",
       "      <td>833</td>\n",
       "      <td>477</td>\n",
       "      <td>833</td>\n",
       "      <td>0.770</td>\n",
       "    </tr>\n",
       "    <tr>\n",
       "      <th>...</th>\n",
       "      <td>...</td>\n",
       "      <td>...</td>\n",
       "      <td>...</td>\n",
       "      <td>...</td>\n",
       "      <td>...</td>\n",
       "      <td>...</td>\n",
       "      <td>...</td>\n",
       "      <td>...</td>\n",
       "      <td>...</td>\n",
       "      <td>...</td>\n",
       "      <td>...</td>\n",
       "      <td>...</td>\n",
       "    </tr>\n",
       "    <tr>\n",
       "      <th>2765</th>\n",
       "      <td>152332968.png</td>\n",
       "      <td>2</td>\n",
       "      <td>0.538</td>\n",
       "      <td>806</td>\n",
       "      <td>85</td>\n",
       "      <td>1022</td>\n",
       "      <td>85</td>\n",
       "      <td>1022</td>\n",
       "      <td>314</td>\n",
       "      <td>806</td>\n",
       "      <td>314</td>\n",
       "      <td>0.972</td>\n",
       "    </tr>\n",
       "    <tr>\n",
       "      <th>2768</th>\n",
       "      <td>152415267.png</td>\n",
       "      <td>2</td>\n",
       "      <td>0.397</td>\n",
       "      <td>802</td>\n",
       "      <td>155</td>\n",
       "      <td>1021</td>\n",
       "      <td>155</td>\n",
       "      <td>1021</td>\n",
       "      <td>390</td>\n",
       "      <td>802</td>\n",
       "      <td>390</td>\n",
       "      <td>0.650</td>\n",
       "    </tr>\n",
       "    <tr>\n",
       "      <th>2772</th>\n",
       "      <td>152528869.png</td>\n",
       "      <td>2</td>\n",
       "      <td>0.488</td>\n",
       "      <td>805</td>\n",
       "      <td>230</td>\n",
       "      <td>1031</td>\n",
       "      <td>230</td>\n",
       "      <td>1031</td>\n",
       "      <td>474</td>\n",
       "      <td>805</td>\n",
       "      <td>474</td>\n",
       "      <td>0.683</td>\n",
       "    </tr>\n",
       "    <tr>\n",
       "      <th>2828</th>\n",
       "      <td>154154250.png</td>\n",
       "      <td>2</td>\n",
       "      <td>0.492</td>\n",
       "      <td>432</td>\n",
       "      <td>253</td>\n",
       "      <td>659</td>\n",
       "      <td>253</td>\n",
       "      <td>659</td>\n",
       "      <td>493</td>\n",
       "      <td>432</td>\n",
       "      <td>493</td>\n",
       "      <td>0.871</td>\n",
       "    </tr>\n",
       "    <tr>\n",
       "      <th>2869</th>\n",
       "      <td>154730787.png</td>\n",
       "      <td>2</td>\n",
       "      <td>0.444</td>\n",
       "      <td>1188</td>\n",
       "      <td>238</td>\n",
       "      <td>1422</td>\n",
       "      <td>238</td>\n",
       "      <td>1422</td>\n",
       "      <td>483</td>\n",
       "      <td>1188</td>\n",
       "      <td>483</td>\n",
       "      <td>0.553</td>\n",
       "    </tr>\n",
       "  </tbody>\n",
       "</table>\n",
       "<p>70 rows × 12 columns</p>\n",
       "</div>"
      ],
      "text/plain": [
       "          file_name  class_id  confidence  point1_x  point1_y  point2_x  \\\n",
       "123   075817746.png         2       0.346       796       312      1028   \n",
       "191   082220349.png         2       0.598      1241       464      1489   \n",
       "207   082653535.png         2       0.547       804       240      1031   \n",
       "214   082940472.png         2       0.331      1169       245      1403   \n",
       "220   083026406.png         2       0.544       477       544       720   \n",
       "...             ...       ...         ...       ...       ...       ...   \n",
       "2765  152332968.png         2       0.538       806        85      1022   \n",
       "2768  152415267.png         2       0.397       802       155      1021   \n",
       "2772  152528869.png         2       0.488       805       230      1031   \n",
       "2828  154154250.png         2       0.492       432       253       659   \n",
       "2869  154730787.png         2       0.444      1188       238      1422   \n",
       "\n",
       "      point2_y  point3_x  point3_y  point4_x  point4_y  spark_score  \n",
       "123        312      1028       578       796       578        0.548  \n",
       "191        464      1489       732      1241       732        0.999  \n",
       "207        240      1031       492       804       492        0.911  \n",
       "214        245      1403       504      1169       504        0.765  \n",
       "220        544       720       833       477       833        0.770  \n",
       "...        ...       ...       ...       ...       ...          ...  \n",
       "2765        85      1022       314       806       314        0.972  \n",
       "2768       155      1021       390       802       390        0.650  \n",
       "2772       230      1031       474       805       474        0.683  \n",
       "2828       253       659       493       432       493        0.871  \n",
       "2869       238      1422       483      1188       483        0.553  \n",
       "\n",
       "[70 rows x 12 columns]"
      ]
     },
     "execution_count": 33,
     "metadata": {},
     "output_type": "execute_result"
    }
   ],
   "source": [
    "submit_df[(submit_df[\"class_id\"] == 2)]  #  & (submit_df[\"confidence\"] < 0.7)"
   ]
  },
  {
   "cell_type": "code",
   "execution_count": null,
   "id": "5dd79fbb",
   "metadata": {},
   "outputs": [],
   "source": [
    "i = 0"
   ]
  },
  {
   "cell_type": "code",
   "execution_count": 34,
   "id": "bca7bfab",
   "metadata": {},
   "outputs": [],
   "source": [
    "submit_df = pd.read_csv(\"/data/submit_spark_score_보정_재현1.csv\")\n",
    "\n",
    "# data = submit_df[\n",
    "#     (submit_df[\"class_id\"] == 23)\n",
    "#     & (submit_df[\"confidence\"] < 0.999)\n",
    "#     & (submit_df[\"confidence\"] > 0.99)\n",
    "# ].iloc[i]\n",
    "\n",
    "# file_name = data[\"file_name\"]\n",
    "# score = data[\"confidence\"]\n",
    "# i += 1\n",
    "\n",
    "# print(score)\n",
    "# img = cv2.imread(f\"/data/dacon_cars/data/test/{file_name}\")\n",
    "# img = cv2.resize(img, (0, 0), fx=0.5, fy=0.5)\n",
    "# plt.figure(figsize=(15, 15))\n",
    "# plt.imshow(img)\n",
    "\n",
    "\n",
    "submit_df.loc[\n",
    "    submit_df[\n",
    "        (submit_df[\"class_id\"] == 12) & (submit_df[\"confidence\"] < 0.65)\n",
    "    ].index.to_list(),\n",
    "    \"class_id\",\n",
    "] = 2\n",
    "\n",
    "submit_df.loc[\n",
    "    submit_df[\n",
    "        (submit_df[\"class_id\"] == 4) & (submit_df[\"confidence\"] < 0.65)\n",
    "    ].index.to_list(),\n",
    "    \"class_id\",\n",
    "] = 2\n",
    "\n",
    "submit_df.loc[\n",
    "    submit_df[\n",
    "        (submit_df[\"class_id\"] == 8) & (submit_df[\"confidence\"] < 0.65)\n",
    "    ].index.to_list(),\n",
    "    \"class_id\",\n",
    "] = 2\n",
    "\n",
    "submit_df.loc[\n",
    "    submit_df[\n",
    "        (submit_df[\"class_id\"] == 22) & (submit_df[\"confidence\"] < 0.65)\n",
    "    ].index.to_list(),\n",
    "    \"class_id\",\n",
    "] = 2\n",
    "\n",
    "submit_df.loc[\n",
    "    submit_df[\n",
    "        (submit_df[\"class_id\"] == 27) & (submit_df[\"confidence\"] < 0.65)\n",
    "    ].index.to_list(),\n",
    "    \"class_id\",\n",
    "] = 2\n",
    "\n",
    "submit_df.loc[\n",
    "    submit_df[\n",
    "        (submit_df[\"class_id\"] == 23) & (submit_df[\"confidence\"] < 0.99)\n",
    "    ].index.to_list(),\n",
    "    \"class_id\",\n",
    "] = 2\n",
    "\n",
    "\n",
    "# submit_df.loc[\n",
    "#     submit_df[\n",
    "#         (submit_df[\"confidence\"] < 0.7)\n",
    "#         &(submit_df[\"class_id\"] == 4)\n",
    "#         &(submit_df[\"class_id\"] == 8)\n",
    "#         &(submit_df[\"class_id\"] == 11)\n",
    "#         &(submit_df[\"class_id\"] == 15)\n",
    "#         &(submit_df[\"class_id\"] == 20)\n",
    "#         &(submit_df[\"class_id\"] == 27)\n",
    "#         &(submit_df[\"class_id\"] == 33)\n",
    "#     ].index.to_list(),\n",
    "#     \"class_id\",\n",
    "# ] = 2\n",
    "\n",
    "# submit_df.loc[\n",
    "#     submit_df[\n",
    "#         (submit_df[\"confidence\"] < 0.999)\n",
    "#         &(submit_df[\"class_id\"] == 23)\n",
    "#     ].index.to_list(),\n",
    "#     \"class_id\",\n",
    "# ] = 2\n",
    "\n",
    "# 12 빠짐\n",
    "# # 26 < 0.5\n",
    "# # 4, 11, 8, 15, 20, 27, 33 < 0.7\n",
    "# # 23 < 0.99\n",
    "\n",
    "submit_df.to_csv(\"/data/submit_spark_score_보정_재현2.csv\", index=False)"
   ]
  },
  {
   "cell_type": "code",
   "execution_count": null,
   "id": "36247de3",
   "metadata": {},
   "outputs": [],
   "source": [
    "from torch.nn import functional as F\n",
    "\n",
    "\n",
    "# test_list = sorted(glob(\"/data/dacon_cars/data/test_cars/*.npy\"))\n",
    "test_list = sorted(glob(\"/data/dacon_cars/data/test_cars/155231127_1.npy\"))\n",
    "print(test_list[test_index])\n",
    "print(test_index)\n",
    "img = cv2.cvtColor(np.load(test_list[test_index]), cv2.COLOR_BGR2RGB)\n",
    "# test_index += 1\n",
    "with torch.no_grad():\n",
    "    print(img.shape)\n",
    "    img = img[5:-5, 5:-5]\n",
    "    test_img = test_transform(image=img)[\"image\"]\n",
    "    test_img = torch.Tensor(test_img).to(device, dtype=torch.float)\n",
    "    test_img = torch.unsqueeze(test_img, 0)\n",
    "    ensemble_probs = None\n",
    "    for tta_model in model_list:\n",
    "        probs = F.softmax(tta_model(test_img), dim=1)\n",
    "        probs = np.round(probs.cpu().detach().numpy(), 3)\n",
    "\n",
    "        if ensemble_probs is None:\n",
    "            ensemble_probs = probs\n",
    "        else:\n",
    "            ensemble_probs = ensemble_probs + probs\n",
    "\n",
    "    ensemble_probs = np.round(ensemble_probs / len(model_list), 3)\n",
    "\n",
    "    top1 = np.max(ensemble_probs)\n",
    "    label = np.argmax(ensemble_probs)\n",
    "    spark_score = ensemble_probs[0][4] + ensemble_probs[0][12] + ensemble_probs[0][23]\n",
    "\n",
    "    gene = ensemble_probs[0][6] + ensemble_probs[0][7]\n",
    "\n",
    "    print(ensemble_probs)\n",
    "    print(top1)\n",
    "    print(f\"spark: {spark_score}\")\n",
    "    print(f\"gene: {gene}\")\n",
    "    print(label)\n",
    "    print(CFG.classes[label])\n",
    "    plt.figure(figsize=(5, 5))\n",
    "    plt.imshow(tensor2im(test_img[0]))\n",
    "    # f\"{test_path}/test\""
   ]
  },
  {
   "cell_type": "code",
   "execution_count": null,
   "id": "eace1717",
   "metadata": {},
   "outputs": [],
   "source": [
    "submit_df = pd.read_csv(\"/data/submit_special_spark.csv\").iloc[:, 1:]\n",
    "submit_df\n",
    "\n",
    "from src.image_eda.v1 import apply_bbox\n",
    "\n",
    "for i, row in tqdm(submit_df.iterrows()):\n",
    "    img = cv2.imread(f\"/data/dacon_cars/data/test/{row['file_name']}\")\n",
    "\n",
    "    img = apply_bbox(\n",
    "        img,\n",
    "        [row[\"class_id\"] + 1],\n",
    "        [[row[\"point1_x\"], row[\"point1_y\"], row[\"point3_x\"], row[\"point3_y\"]]],\n",
    "        CFG.classes,\n",
    "        [row[\"confidence\"]],\n",
    "        [0, 255, 0],\n",
    "    )\n",
    "\n",
    "    cv2.imwrite(\n",
    "        f\"/data/dacon_cars/data/draw_bbox/{row['file_name'].replace('.png', '.jpg')}\",\n",
    "        img,\n",
    "    )"
   ]
  },
  {
   "cell_type": "code",
   "execution_count": null,
   "id": "d1a6d152",
   "metadata": {},
   "outputs": [],
   "source": [
    "import shutil\n",
    "\n",
    "for i, row in submit_df[submit_df[\"class_id\"] == 2].iterrows():\n",
    "    shutil.copy(\n",
    "        f\"/data/dacon_cars/data/test_cars_image/{row['file_name'].replace('.png', '_0.png')}\",\n",
    "        f\"/data/dacon_cars/data/export/{row['file_name'].replace('.png', '_0.png')}\",\n",
    "    )"
   ]
  },
  {
   "cell_type": "code",
   "execution_count": null,
   "id": "cd32bd9f",
   "metadata": {},
   "outputs": [],
   "source": [
    "plt.figure(figsize=(15, 15))\n",
    "plt.hist(submit_df[\"class_id\"], 34)"
   ]
  },
  {
   "cell_type": "code",
   "execution_count": null,
   "id": "53f751ec",
   "metadata": {},
   "outputs": [],
   "source": [
    "submit2_df = pd.read_csv(\"/data/submit2.csv\")"
   ]
  },
  {
   "cell_type": "code",
   "execution_count": null,
   "id": "6a13b854",
   "metadata": {},
   "outputs": [],
   "source": [
    "compare_df = pd.concat(\n",
    "    [submit_df[\"file_name\"], submit_df[\"class_id\"], submit2_df[\"class_id\"]],\n",
    "    axis=1,\n",
    ")\n",
    "\n",
    "compare_df = pd.merge(\n",
    "    submit_df[[\"file_name\", \"class_id\"]],\n",
    "    submit2_df[[\"file_name\", \"class_id\"]],\n",
    "    how=\"outer\",\n",
    "    left_index=True,\n",
    "    right_index=True,\n",
    "    indicator=True,\n",
    ")\n",
    "\n",
    "compare_df.columns = [\"file_name\", \"class_id1\", \"class_id2\"]\n",
    "compare_df"
   ]
  },
  {
   "cell_type": "code",
   "execution_count": null,
   "id": "2850b2e5",
   "metadata": {},
   "outputs": [],
   "source": [
    "print(compare_df.compare(compare_df, align_axis=1))  # index"
   ]
  }
 ],
 "metadata": {
  "kernelspec": {
   "display_name": "Python 3",
   "language": "python",
   "name": "python3"
  },
  "language_info": {
   "codemirror_mode": {
    "name": "ipython",
    "version": 3
   },
   "file_extension": ".py",
   "mimetype": "text/x-python",
   "name": "python",
   "nbconvert_exporter": "python",
   "pygments_lexer": "ipython3",
   "version": "3.8.10"
  },
  "vscode": {
   "interpreter": {
    "hash": "916dbcbb3f70747c44a77c7bcd40155683ae19c65e1c03b4aa3499c5328201f1"
   }
  }
 },
 "nbformat": 4,
 "nbformat_minor": 5
}
